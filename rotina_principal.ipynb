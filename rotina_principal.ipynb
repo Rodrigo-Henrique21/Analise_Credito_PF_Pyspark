{
 "cells": [
  {
   "cell_type": "markdown",
   "id": "36316074-cf1c-4943-b3e7-0f16519291d9",
   "metadata": {
    "tags": []
   },
   "source": [
    "# **Fluxo módulo - Metodologia Pessoa Física**\n",
    "\n",
    "O objetivo deste notebook é:\n",
    "1. Executar o fluxo completo do módulo.\n",
    "\n",
    "    Autores: Rodrigo Henrique\n"
   ]
  },
  {
   "cell_type": "markdown",
   "id": "f8b3f3c2-ad2f-4d60-bcb1-e59bfa08d4fc",
   "metadata": {},
   "source": [
    "## **Preparação de Variáveis e Inicialização da Sessão Spark**"
   ]
  },
  {
   "cell_type": "code",
   "execution_count": null,
   "id": "99342123-2879-46ff-93b8-74fb4e0fc07a",
   "metadata": {},
   "outputs": [],
   "source": [
    "###### ###### IMPORTACAO\n",
    "###############################################################################\n",
    "import Spark, Kinit\n",
    "import os\n",
    "from dotenv import load_dotenv\n",
    "\n",
    "from IPython.core.display import HTML\n",
    "display(HTML(\"<style>pre { white-space: pre !important; }</style>\"))\n",
    "\n",
    "###############################################################################\n",
    "###### CONFIGURACOES PARAMETROS PARA INICIAR SESSAO SPARK\n",
    "###############################################################################\n",
    "HDP_VERSION = 3  # type: int\n",
    "SESSION_NAME = \"metodologia_Pessoa_Fisica\"  # type: str\n",
    "LANGUAGE = \"python\"\n",
    "\n",
    "###############################################################################\n",
    "###### CONSTANTE QUE SERVE PARA DEFINIR PARAMETROS A SEREM UTILIZADOS CONFORME \n",
    "###### AMBIENTE (MODELAGEM OU SCORAGE/PRODUCAO) NO QUAL O JOB SERA EXECUTADO \n",
    "###############################################################################\n",
    "AMBIENTE = os.environ[\"AMBIENTE\"] \n",
    "\n",
    "if AMBIENTE == \"MODELAGEM\":\n",
    "    load_dotenv(\"env.env\", override=True)\n",
    "    !kdestroy\n",
    "    TABELA_ENTRADA = \"CRD_ENTRADA\"\n",
    "    TABELA_SAIDA = \"CRD_SAIDA\"\n",
    "    CHECKPOINT_PATH = '/checkpoints_modelo_53\"\n",
    "    INPUT_PATH = \"/dados_batch_ancpf\"\n",
    "    ARQ_PATH = \"/Lote_PF\"\n",
    "    URL = os.environ[\"URL\"] \n",
    "    JCN = os.environ[\"JCN\"] \n",
    "    print(\"Credenciais de Desenvolvimento Carregadas\")\n",
    "else:\n",
    "    load_dotenv()\n",
    "    TABELA_ENTRADA = \"HIVE.CRD_ENTRADA\"\n",
    "    TABELA_SAIDA = \"HIVE.CRD_SAIDA\"\n",
    "    USER = os.environ[\"KEYTAB\"]\n",
    "    CHECKPOINT_PATH = '/checkpoints_modelo_53\"\n",
    "    INPUT_PATH = \"/dados_batch_ancpf\"\n",
    "    ARQ_PATH = \"/Lote_PF\"\n",
    "    URL = os.environ[\"URL\"] \n",
    "    JCN = os.environ[\"JCN\"] \n",
    "    print(\"Credenciais de Produção Carregadas\")\n",
    "    \n",
    "ENV_VAR = {\n",
    "    'TABELA_ENTRADA': TABELA_ENTRADA,\n",
    "    'TABELA_SAIDA': TABELA_SAIDA,\n",
    "    'AMBIENTE': AMBIENTE,\n",
    "    'DB_USER': os.environ['DB_USER'],\n",
    "    'DB_PASSWORD': os.environ['DB_PASSWORD'],\n",
    "    'DB_HOST': os.environ['DB_HOST'],\n",
    "    'DB_PORTA': os.environ['DB_PORTA'],\n",
    "    'DB_DATABASE': os.environ['DB_DATABASE'],\n",
    "    'DB_DRIVER': os.environ['DRIVER'],\n",
    "    'CHECKPOINT_PATH': CHECKPOINT_PATH,\n",
    "    'INPUT_PATH': INPUT_PATH,\n",
    "    'ARQ_PATH': ARQ_PATH,\n",
    "    'URL': URL,\n",
    "    'JCN': JCN,\n",
    "}\n",
    "\n",
    "###############################################################################\n",
    "###### CRIACAO DA SESSAO SPARK \n",
    "###############################################################################\n",
    "spark = Spark(\n",
    "    session_name=SESSION_NAME,\n",
    "    driver_memory = \"16g\",\n",
    "    executor_memory = \"32g\",\n",
    "    driver_cores = 8,\n",
    "    executor_cores = 5,\n",
    "    username=USER,\n",
    "    language = LANGUAGE,\n",
    "    hdp=3,\n",
    "    db=True,\n",
    "    env=ENV_VAR,\n",
    "    spark_conf = {\n",
    "    \"spark.sql.shuffle.partitions\": \"20\",\n",
    "    \"spark.memory.fraction\": \"0.30\",\n",
    "    \"spark.executor.memoryoverhead\": \"16g\",\n",
    "    \"spark.sql.sources.partitionOverwriteMode\": \"dynamic\",\n",
    "    \"spark.sql.hive.caseSensitiveInferenceMode\": \"NEVER_INFER\",\n",
    "    \"spark.shuffle.service.enabled\": \"true\",\n",
    "    \"spark.shuffle.service.port\": 7447, \n",
    "    \"spark.shuffle.service.name\": \"spark2_shuffle\", \n",
    "    \"spark.shuffle.useOldFetchProtocol\": \"true\",\n",
    "    \"spark.shuffle.sort.bypassMergeThreshold\": \"40\",\n",
    "    \"spark.sql.autoBroadcastJoinThreshold\": \"128\",\n",
    "    \"spark.sql.parquet.filterPushdown\": \"true\",\n",
    "    \"spark.sql.broadcastTimeout\": \"120s\",\n",
    "    \"spark.sql.ui.retainedExecutions\": \"10\",\n",
    "    \"spark.cleaner.referenceTracking.cleanCheckpoints\": \"true\",\n",
    "    \"spark.executor.extraJavaOptions\": \"-XX:ReservedCodeCacheSize=2g -XX:+UseG1GC\",\n",
    "    \"spark.sql.optimizer.excludedRules\": \"org.apache.spark.sql.catalyst.optimizer.CollapseProject\",\n",
    "    },\n",
    "    spark_version=3\n",
    "    )"
   ]
  },
  {
   "cell_type": "markdown",
   "id": "ce1fb5a4-29c3-402c-b2c4-c9745590cfa2",
   "metadata": {},
   "source": [
    "## **Importações Necessárias**"
   ]
  },
  {
   "cell_type": "code",
   "execution_count": 2,
   "id": "8c9ac19c-ac7e-408b-b658-d892e76b903d",
   "metadata": {},
   "outputs": [
    {
     "data": {
      "application/vnd.jupyter.widget-view+json": {
       "model_id": "",
       "version_major": 2,
       "version_minor": 0
      },
      "text/plain": [
       "FloatProgress(value=0.0, bar_style='info', description='Progress:', layout=Layout(height='25px', width='50%'),…"
      ]
     },
     "metadata": {},
     "output_type": "display_data"
    }
   ],
   "source": [
    "%%spark\n",
    "\n",
    "import shutil\n",
    "import math\n",
    "import os\n",
    "import sys\n",
    "import json\n",
    "import pyspark.sql.functions as f\n",
    "import pyspark.sql.functions as F\n",
    "from pyspark.sql.window import Window\n",
    "from pyspark.sql import Row\n",
    "from typing import List, Dict\n",
    "from pyspark.sql.functions import *\n",
    "from pyspark.sql.types import *\n",
    "from pyspark import StorageLevel"
   ]
  },
  {
   "cell_type": "markdown",
   "id": "0d286686-20ec-4dec-8dac-2ddcb5a445a4",
   "metadata": {},
   "source": [
    "## **Definição de Constantes de Parâmetros**"
   ]
  },
  {
   "cell_type": "markdown",
   "id": "48d75b9a-f75b-4d4a-83ca-ee79edf9a68f",
   "metadata": {},
   "source": [
    "### **Exclusão Checkpoint anteriores**"
   ]
  },
  {
   "cell_type": "code",
   "execution_count": null,
   "id": "ae96d818-4e85-4097-8267-b5081cbb1274",
   "metadata": {},
   "outputs": [],
   "source": [
    "import Hdfs\n",
    "\n",
    "lista = hdfs.list(os.environ['CHECKPOINT_PATH'])\n",
    "\n",
    "try:\n",
    "    cont = 0\n",
    "    for arquivo in lista:\n",
    "        hdfs.delete(os.environ['CHECKPOINT_PATH']+arquivo,True)\n",
    "        cont += 1\n",
    "        print(f'Foram excluidos {cont} checkpoints')\n",
    "except:\n",
    "    pass       "
   ]
  },
  {
   "cell_type": "markdown",
   "id": "a18122c5-73e9-4ebb-85b5-140f53735959",
   "metadata": {},
   "source": [
    "### **Definição Checkpoint**"
   ]
  },
  {
   "cell_type": "code",
   "execution_count": 3,
   "id": "ffc95b6c-f8cb-4639-b139-5a697e49c0fb",
   "metadata": {},
   "outputs": [
    {
     "data": {
      "application/vnd.jupyter.widget-view+json": {
       "model_id": "",
       "version_major": 2,
       "version_minor": 0
      },
      "text/plain": [
       "FloatProgress(value=0.0, bar_style='info', description='Progress:', layout=Layout(height='25px', width='50%'),…"
      ]
     },
     "metadata": {},
     "output_type": "display_data"
    }
   ],
   "source": [
    "%%spark\n",
    "\n",
    "# Constantes para identificar as origens e os detinos dos dados.\n",
    "\n",
    "spark.sparkContext.setCheckpointDir(os.environ[\"CHECKPOINT_PATH\"])"
   ]
  },
  {
   "cell_type": "markdown",
   "id": "60c70134-acc7-4ed1-ae25-f13effba5c1b",
   "metadata": {},
   "source": [
    "### **Define o dicionário de constantes utilizado nas consultas DB**"
   ]
  },
  {
   "cell_type": "code",
   "execution_count": 4,
   "id": "8e56f34d-b705-45c1-b355-43a0342b4d45",
   "metadata": {},
   "outputs": [
    {
     "data": {
      "application/vnd.jupyter.widget-view+json": {
       "model_id": "",
       "version_major": 2,
       "version_minor": 0
      },
      "text/plain": [
       "FloatProgress(value=0.0, bar_style='info', description='Progress:', layout=Layout(height='25px', width='50%'),…"
      ]
     },
     "metadata": {},
     "output_type": "display_data"
    }
   ],
   "source": [
    "%%spark\n",
    "\n",
    "# Montagem de dicionário Python contendo todos os valores definidos\n",
    "dicionarioDeConstantes = {\n",
    "    \"TABELA_ENTRADA\":os.environ['TABELA_ENTRADA'],\n",
    "    \"URL\":os.environ['URL'],\n",
    "    \"JCN\":os.environ['JCN'],\n",
    "    \"URL\":f\"{os.environ['DRIVER']:{os.environ['DB_PORTA']}/{os.environ['DB_DATABASE']}\",\n",
    "    \"JCN\":os.environ['DB_DRIVER'],\n",
    "    \"DB_USER\":os.environ['DB_USER'],\n",
    "    \"DB_PASSWORD\":os.environ['DB_PASSWORD'],\n",
    "    \"DB_HOST\": os.environ['DB_HOST'],\n",
    "    \"DB_PORTA\": os.environ['DB_PORTA'],\n",
    "    \"DB_DATABASE\": os.environ['DB_DATABASE']\n",
    "}"
   ]
  },
  {
   "cell_type": "markdown",
   "id": "04ce83da-3757-47c5-984d-e1377ac9983a",
   "metadata": {},
   "source": [
    "# **Recebimento e tratamento dos dados de recebidos**"
   ]
  },
  {
   "cell_type": "code",
   "execution_count": null,
   "id": "7978ec21-6314-4bc4-b97a-5f851be37699",
   "metadata": {},
   "outputs": [],
   "source": [
    "%%time\n",
    "\n",
    "%run leitura_posicional.ipynb"
   ]
  },
  {
   "cell_type": "code",
   "execution_count": 5,
   "id": "e703986a-2aeb-4f0a-bb93-939614629668",
   "metadata": {},
   "outputs": [
    {
     "data": {
      "application/vnd.jupyter.widget-view+json": {
       "model_id": "",
       "version_major": 2,
       "version_minor": 0
      },
      "text/plain": [
       "FloatProgress(value=0.0, bar_style='info', description='Progress:', layout=Layout(height='25px', width='50%'),…"
      ]
     },
     "metadata": {},
     "output_type": "display_data"
    },
    {
     "name": "stdout",
     "output_type": "stream",
     "text": [
      "CPU times: user 30.6 ms, sys: 3.86 ms, total: 34.5 ms\n",
      "Wall time: 243 ms\n"
     ]
    }
   ],
   "source": [
    "%%time\n",
    "%%spark\n",
    "\n",
    "spark.catalog.clearCache()"
   ]
  },
  {
   "cell_type": "markdown",
   "id": "f44d0b07-e7f9-4727-b328-e0af90f799a6",
   "metadata": {},
   "source": [
    "## **Funções Auxiliares**"
   ]
  },
  {
   "cell_type": "code",
   "execution_count": 6,
   "id": "7536d5bd-739d-4e4f-b36b-11b9738cc2f6",
   "metadata": {},
   "outputs": [
    {
     "data": {
      "application/vnd.jupyter.widget-view+json": {
       "model_id": "",
       "version_major": 2,
       "version_minor": 0
      },
      "text/plain": [
       "FloatProgress(value=0.0, bar_style='info', description='Progress:', layout=Layout(height='25px', width='50%'),…"
      ]
     },
     "metadata": {},
     "output_type": "display_data"
    },
    {
     "data": {
      "application/vnd.jupyter.widget-view+json": {
       "model_id": "",
       "version_major": 2,
       "version_minor": 0
      },
      "text/plain": [
       "FloatProgress(value=0.0, bar_style='info', description='Progress:', layout=Layout(height='25px', width='50%'),…"
      ]
     },
     "metadata": {},
     "output_type": "display_data"
    }
   ],
   "source": [
    "%run utils.ipynb"
   ]
  },
  {
   "cell_type": "markdown",
   "id": "213e45b6-a64f-41f8-9bd8-055117ec84f7",
   "metadata": {
    "tags": []
   },
   "source": [
    "## Rotativo"
   ]
  },
  {
   "cell_type": "markdown",
   "id": "8e3221cb-cc8d-40c4-bab4-c7f643d343c0",
   "metadata": {},
   "source": [
    "### **Módulos do Cálculo Rotativo**"
   ]
  },
  {
   "cell_type": "code",
   "execution_count": 7,
   "id": "1e7c17fd-de35-4520-8b72-d920a9380c47",
   "metadata": {},
   "outputs": [
    {
     "data": {
      "application/vnd.jupyter.widget-view+json": {
       "model_id": "",
       "version_major": 2,
       "version_minor": 0
      },
      "text/plain": [
       "FloatProgress(value=0.0, bar_style='info', description='Progress:', layout=Layout(height='25px', width='50%'),…"
      ]
     },
     "metadata": {},
     "output_type": "display_data"
    },
    {
     "name": "stdout",
     "output_type": "stream",
     "text": [
      "CPU times: user 23.3 ms, sys: 2 ms, total: 25.3 ms\n",
      "Wall time: 37 ms\n"
     ]
    },
    {
     "data": {
      "application/vnd.jupyter.widget-view+json": {
       "model_id": "",
       "version_major": 2,
       "version_minor": 0
      },
      "text/plain": [
       "FloatProgress(value=0.0, bar_style='info', description='Progress:', layout=Layout(height='25px', width='50%'),…"
      ]
     },
     "metadata": {},
     "output_type": "display_data"
    },
    {
     "name": "stdout",
     "output_type": "stream",
     "text": [
      "CPU times: user 24.9 ms, sys: 1.92 ms, total: 26.8 ms\n",
      "Wall time: 33.2 ms\n"
     ]
    },
    {
     "data": {
      "application/vnd.jupyter.widget-view+json": {
       "model_id": "",
       "version_major": 2,
       "version_minor": 0
      },
      "text/plain": [
       "FloatProgress(value=0.0, bar_style='info', description='Progress:', layout=Layout(height='25px', width='50%'),…"
      ]
     },
     "metadata": {},
     "output_type": "display_data"
    },
    {
     "name": "stdout",
     "output_type": "stream",
     "text": [
      "CPU times: user 26.6 ms, sys: 22 µs, total: 26.6 ms\n",
      "Wall time: 31.3 ms\n"
     ]
    },
    {
     "data": {
      "application/vnd.jupyter.widget-view+json": {
       "model_id": "",
       "version_major": 2,
       "version_minor": 0
      },
      "text/plain": [
       "FloatProgress(value=0.0, bar_style='info', description='Progress:', layout=Layout(height='25px', width='50%'),…"
      ]
     },
     "metadata": {},
     "output_type": "display_data"
    },
    {
     "name": "stdout",
     "output_type": "stream",
     "text": [
      "CPU times: user 24.7 ms, sys: 3.11 ms, total: 27.8 ms\n",
      "Wall time: 31.9 ms\n"
     ]
    },
    {
     "data": {
      "application/vnd.jupyter.widget-view+json": {
       "model_id": "",
       "version_major": 2,
       "version_minor": 0
      },
      "text/plain": [
       "FloatProgress(value=0.0, bar_style='info', description='Progress:', layout=Layout(height='25px', width='50%'),…"
      ]
     },
     "metadata": {},
     "output_type": "display_data"
    },
    {
     "name": "stdout",
     "output_type": "stream",
     "text": [
      "CPU times: user 23.5 ms, sys: 4.32 ms, total: 27.8 ms\n",
      "Wall time: 31.5 ms\n"
     ]
    },
    {
     "data": {
      "application/vnd.jupyter.widget-view+json": {
       "model_id": "",
       "version_major": 2,
       "version_minor": 0
      },
      "text/plain": [
       "FloatProgress(value=0.0, bar_style='info', description='Progress:', layout=Layout(height='25px', width='50%'),…"
      ]
     },
     "metadata": {},
     "output_type": "display_data"
    },
    {
     "name": "stdout",
     "output_type": "stream",
     "text": [
      "CPU times: user 24.8 ms, sys: 308 µs, total: 25.1 ms\n",
      "Wall time: 30.3 ms\n"
     ]
    },
    {
     "data": {
      "application/vnd.jupyter.widget-view+json": {
       "model_id": "",
       "version_major": 2,
       "version_minor": 0
      },
      "text/plain": [
       "FloatProgress(value=0.0, bar_style='info', description='Progress:', layout=Layout(height='25px', width='50%'),…"
      ]
     },
     "metadata": {},
     "output_type": "display_data"
    },
    {
     "name": "stdout",
     "output_type": "stream",
     "text": [
      "CPU times: user 23.6 ms, sys: 2.56 ms, total: 26.2 ms\n",
      "Wall time: 31.7 ms\n"
     ]
    },
    {
     "data": {
      "application/vnd.jupyter.widget-view+json": {
       "model_id": "",
       "version_major": 2,
       "version_minor": 0
      },
      "text/plain": [
       "FloatProgress(value=0.0, bar_style='info', description='Progress:', layout=Layout(height='25px', width='50%'),…"
      ]
     },
     "metadata": {},
     "output_type": "display_data"
    },
    {
     "name": "stdout",
     "output_type": "stream",
     "text": [
      "CPU times: user 23.8 ms, sys: 3.79 ms, total: 27.6 ms\n",
      "Wall time: 33.5 ms\n"
     ]
    },
    {
     "data": {
      "application/vnd.jupyter.widget-view+json": {
       "model_id": "",
       "version_major": 2,
       "version_minor": 0
      },
      "text/plain": [
       "FloatProgress(value=0.0, bar_style='info', description='Progress:', layout=Layout(height='25px', width='50%'),…"
      ]
     },
     "metadata": {},
     "output_type": "display_data"
    },
    {
     "name": "stdout",
     "output_type": "stream",
     "text": [
      "CPU times: user 24.9 ms, sys: 1.98 ms, total: 26.8 ms\n",
      "Wall time: 32.5 ms\n"
     ]
    },
    {
     "data": {
      "application/vnd.jupyter.widget-view+json": {
       "model_id": "",
       "version_major": 2,
       "version_minor": 0
      },
      "text/plain": [
       "FloatProgress(value=0.0, bar_style='info', description='Progress:', layout=Layout(height='25px', width='50%'),…"
      ]
     },
     "metadata": {},
     "output_type": "display_data"
    },
    {
     "name": "stdout",
     "output_type": "stream",
     "text": [
      "CPU times: user 33.2 ms, sys: 0 ns, total: 33.2 ms\n",
      "Wall time: 44.5 ms\n"
     ]
    },
    {
     "data": {
      "application/vnd.jupyter.widget-view+json": {
       "model_id": "",
       "version_major": 2,
       "version_minor": 0
      },
      "text/plain": [
       "FloatProgress(value=0.0, bar_style='info', description='Progress:', layout=Layout(height='25px', width='50%'),…"
      ]
     },
     "metadata": {},
     "output_type": "display_data"
    },
    {
     "name": "stdout",
     "output_type": "stream",
     "text": [
      "CPU times: user 25.6 ms, sys: 1.67 ms, total: 27.2 ms\n",
      "Wall time: 31.2 ms\n"
     ]
    },
    {
     "data": {
      "application/vnd.jupyter.widget-view+json": {
       "model_id": "",
       "version_major": 2,
       "version_minor": 0
      },
      "text/plain": [
       "FloatProgress(value=0.0, bar_style='info', description='Progress:', layout=Layout(height='25px', width='50%'),…"
      ]
     },
     "metadata": {},
     "output_type": "display_data"
    },
    {
     "name": "stdout",
     "output_type": "stream",
     "text": [
      "CPU times: user 25.1 ms, sys: 958 µs, total: 26.1 ms\n",
      "Wall time: 29.9 ms\n"
     ]
    },
    {
     "data": {
      "application/vnd.jupyter.widget-view+json": {
       "model_id": "",
       "version_major": 2,
       "version_minor": 0
      },
      "text/plain": [
       "FloatProgress(value=0.0, bar_style='info', description='Progress:', layout=Layout(height='25px', width='50%'),…"
      ]
     },
     "metadata": {},
     "output_type": "display_data"
    },
    {
     "name": "stdout",
     "output_type": "stream",
     "text": [
      "CPU times: user 26.2 ms, sys: 2.8 ms, total: 29 ms\n",
      "Wall time: 35.6 ms\n"
     ]
    },
    {
     "data": {
      "application/vnd.jupyter.widget-view+json": {
       "model_id": "",
       "version_major": 2,
       "version_minor": 0
      },
      "text/plain": [
       "FloatProgress(value=0.0, bar_style='info', description='Progress:', layout=Layout(height='25px', width='50%'),…"
      ]
     },
     "metadata": {},
     "output_type": "display_data"
    },
    {
     "name": "stdout",
     "output_type": "stream",
     "text": [
      "CPU times: user 27.7 ms, sys: 52 µs, total: 27.8 ms\n",
      "Wall time: 34 ms\n"
     ]
    },
    {
     "data": {
      "application/vnd.jupyter.widget-view+json": {
       "model_id": "",
       "version_major": 2,
       "version_minor": 0
      },
      "text/plain": [
       "FloatProgress(value=0.0, bar_style='info', description='Progress:', layout=Layout(height='25px', width='50%'),…"
      ]
     },
     "metadata": {},
     "output_type": "display_data"
    },
    {
     "name": "stdout",
     "output_type": "stream",
     "text": [
      "CPU times: user 29.6 ms, sys: 703 µs, total: 30.3 ms\n",
      "Wall time: 36.8 ms\n"
     ]
    },
    {
     "data": {
      "application/vnd.jupyter.widget-view+json": {
       "model_id": "",
       "version_major": 2,
       "version_minor": 0
      },
      "text/plain": [
       "FloatProgress(value=0.0, bar_style='info', description='Progress:', layout=Layout(height='25px', width='50%'),…"
      ]
     },
     "metadata": {},
     "output_type": "display_data"
    },
    {
     "name": "stdout",
     "output_type": "stream",
     "text": [
      "CPU times: user 24.9 ms, sys: 109 µs, total: 25 ms\n",
      "Wall time: 29 ms\n"
     ]
    },
    {
     "data": {
      "application/vnd.jupyter.widget-view+json": {
       "model_id": "",
       "version_major": 2,
       "version_minor": 0
      },
      "text/plain": [
       "FloatProgress(value=0.0, bar_style='info', description='Progress:', layout=Layout(height='25px', width='50%'),…"
      ]
     },
     "metadata": {},
     "output_type": "display_data"
    },
    {
     "name": "stdout",
     "output_type": "stream",
     "text": [
      "CPU times: user 21.1 ms, sys: 3.01 ms, total: 24.1 ms\n",
      "Wall time: 28.8 ms\n"
     ]
    },
    {
     "data": {
      "application/vnd.jupyter.widget-view+json": {
       "model_id": "",
       "version_major": 2,
       "version_minor": 0
      },
      "text/plain": [
       "FloatProgress(value=0.0, bar_style='info', description='Progress:', layout=Layout(height='25px', width='50%'),…"
      ]
     },
     "metadata": {},
     "output_type": "display_data"
    },
    {
     "name": "stdout",
     "output_type": "stream",
     "text": [
      "CPU times: user 26.6 ms, sys: 1.05 ms, total: 27.6 ms\n",
      "Wall time: 34.1 ms\n"
     ]
    },
    {
     "data": {
      "application/vnd.jupyter.widget-view+json": {
       "model_id": "",
       "version_major": 2,
       "version_minor": 0
      },
      "text/plain": [
       "FloatProgress(value=0.0, bar_style='info', description='Progress:', layout=Layout(height='25px', width='50%'),…"
      ]
     },
     "metadata": {},
     "output_type": "display_data"
    },
    {
     "name": "stdout",
     "output_type": "stream",
     "text": [
      "CPU times: user 23 ms, sys: 946 µs, total: 24 ms\n",
      "Wall time: 28.7 ms\n"
     ]
    },
    {
     "data": {
      "application/vnd.jupyter.widget-view+json": {
       "model_id": "",
       "version_major": 2,
       "version_minor": 0
      },
      "text/plain": [
       "FloatProgress(value=0.0, bar_style='info', description='Progress:', layout=Layout(height='25px', width='50%'),…"
      ]
     },
     "metadata": {},
     "output_type": "display_data"
    },
    {
     "name": "stdout",
     "output_type": "stream",
     "text": [
      "CPU times: user 20.9 ms, sys: 3.97 ms, total: 24.9 ms\n",
      "Wall time: 28.9 ms\n"
     ]
    },
    {
     "data": {
      "application/vnd.jupyter.widget-view+json": {
       "model_id": "",
       "version_major": 2,
       "version_minor": 0
      },
      "text/plain": [
       "FloatProgress(value=0.0, bar_style='info', description='Progress:', layout=Layout(height='25px', width='50%'),…"
      ]
     },
     "metadata": {},
     "output_type": "display_data"
    },
    {
     "name": "stdout",
     "output_type": "stream",
     "text": [
      "CPU times: user 22.6 ms, sys: 905 µs, total: 23.6 ms\n",
      "Wall time: 27.6 ms\n"
     ]
    },
    {
     "data": {
      "application/vnd.jupyter.widget-view+json": {
       "model_id": "",
       "version_major": 2,
       "version_minor": 0
      },
      "text/plain": [
       "FloatProgress(value=0.0, bar_style='info', description='Progress:', layout=Layout(height='25px', width='50%'),…"
      ]
     },
     "metadata": {},
     "output_type": "display_data"
    },
    {
     "name": "stdout",
     "output_type": "stream",
     "text": [
      "CPU times: user 23.5 ms, sys: 4.91 ms, total: 28.5 ms\n",
      "Wall time: 33.1 ms\n"
     ]
    },
    {
     "data": {
      "application/vnd.jupyter.widget-view+json": {
       "model_id": "",
       "version_major": 2,
       "version_minor": 0
      },
      "text/plain": [
       "FloatProgress(value=0.0, bar_style='info', description='Progress:', layout=Layout(height='25px', width='50%'),…"
      ]
     },
     "metadata": {},
     "output_type": "display_data"
    },
    {
     "name": "stdout",
     "output_type": "stream",
     "text": [
      "CPU times: user 31.8 ms, sys: 1.85 ms, total: 33.7 ms\n",
      "Wall time: 37.5 ms\n"
     ]
    },
    {
     "data": {
      "application/vnd.jupyter.widget-view+json": {
       "model_id": "",
       "version_major": 2,
       "version_minor": 0
      },
      "text/plain": [
       "FloatProgress(value=0.0, bar_style='info', description='Progress:', layout=Layout(height='25px', width='50%'),…"
      ]
     },
     "metadata": {},
     "output_type": "display_data"
    },
    {
     "name": "stdout",
     "output_type": "stream",
     "text": [
      "CPU times: user 24.7 ms, sys: 269 µs, total: 25 ms\n",
      "Wall time: 29.4 ms\n"
     ]
    },
    {
     "data": {
      "application/vnd.jupyter.widget-view+json": {
       "model_id": "",
       "version_major": 2,
       "version_minor": 0
      },
      "text/plain": [
       "FloatProgress(value=0.0, bar_style='info', description='Progress:', layout=Layout(height='25px', width='50%'),…"
      ]
     },
     "metadata": {},
     "output_type": "display_data"
    },
    {
     "name": "stdout",
     "output_type": "stream",
     "text": [
      "CPU times: user 22.2 ms, sys: 3.02 ms, total: 25.2 ms\n",
      "Wall time: 29.8 ms\n"
     ]
    },
    {
     "data": {
      "application/vnd.jupyter.widget-view+json": {
       "model_id": "",
       "version_major": 2,
       "version_minor": 0
      },
      "text/plain": [
       "FloatProgress(value=0.0, bar_style='info', description='Progress:', layout=Layout(height='25px', width='50%'),…"
      ]
     },
     "metadata": {},
     "output_type": "display_data"
    },
    {
     "name": "stdout",
     "output_type": "stream",
     "text": [
      "CPU times: user 30.6 ms, sys: 3.07 ms, total: 33.7 ms\n",
      "Wall time: 43.6 ms\n"
     ]
    },
    {
     "data": {
      "application/vnd.jupyter.widget-view+json": {
       "model_id": "",
       "version_major": 2,
       "version_minor": 0
      },
      "text/plain": [
       "FloatProgress(value=0.0, bar_style='info', description='Progress:', layout=Layout(height='25px', width='50%'),…"
      ]
     },
     "metadata": {},
     "output_type": "display_data"
    },
    {
     "name": "stdout",
     "output_type": "stream",
     "text": [
      "CPU times: user 837 ms, sys: 64.7 ms, total: 902 ms\n",
      "Wall time: 1.05 s\n"
     ]
    }
   ],
   "source": [
    "%%time\n",
    "\n",
    "%run modulo_calculo_rotativo.ipynb"
   ]
  },
  {
   "cell_type": "markdown",
   "id": "97074e41-08c5-4807-b351-8c8904befe77",
   "metadata": {},
   "source": [
    "### **Inicialização Fluxo Rotativo**\n"
   ]
  },
  {
   "cell_type": "code",
   "execution_count": null,
   "id": "e903f4f6-12d3-42e7-9882-e622335ada0d",
   "metadata": {},
   "outputs": [],
   "source": [
    "%%time\n",
    "%%spark\n",
    "\n",
    "processaRotativoDF = processaRotativo(df).checkpoint()"
   ]
  },
  {
   "cell_type": "code",
   "execution_count": 9,
   "id": "abf5e016-4848-44c9-ac24-b0af0bbe28ae",
   "metadata": {},
   "outputs": [
    {
     "data": {
      "application/vnd.jupyter.widget-view+json": {
       "model_id": "",
       "version_major": 2,
       "version_minor": 0
      },
      "text/plain": [
       "FloatProgress(value=0.0, bar_style='info', description='Progress:', layout=Layout(height='25px', width='50%'),…"
      ]
     },
     "metadata": {},
     "output_type": "display_data"
    },
    {
     "name": "stdout",
     "output_type": "stream",
     "text": [
      "CPU times: user 24.6 ms, sys: 3.7 ms, total: 28.3 ms\n",
      "Wall time: 30.7 ms\n"
     ]
    }
   ],
   "source": [
    "%%time\n",
    "%%spark\n",
    "\n",
    "spark.catalog.clearCache()"
   ]
  },
  {
   "cell_type": "code",
   "execution_count": null,
   "id": "09e8856c-8cea-47c3-9650-053ca41090ad",
   "metadata": {},
   "outputs": [],
   "source": [
    "%%spark\n",
    "\n",
    "processaRotativoDF = processaRotativoDF.na.fill(0)"
   ]
  },
  {
   "cell_type": "markdown",
   "id": "926343b5-1d80-40d5-a078-6a34ce3837af",
   "metadata": {},
   "source": [
    "## **Parcelado**"
   ]
  },
  {
   "cell_type": "markdown",
   "id": "1d1691d2-5881-445f-9a74-8a02130b39a2",
   "metadata": {},
   "source": [
    "### **Módulos do Cálculo Parcelado**"
   ]
  },
  {
   "cell_type": "code",
   "execution_count": 12,
   "id": "30f5e341-be45-4048-bfaa-8b5910fe5246",
   "metadata": {},
   "outputs": [
    {
     "data": {
      "application/vnd.jupyter.widget-view+json": {
       "model_id": "",
       "version_major": 2,
       "version_minor": 0
      },
      "text/plain": [
       "FloatProgress(value=0.0, bar_style='info', description='Progress:', layout=Layout(height='25px', width='50%'),…"
      ]
     },
     "metadata": {},
     "output_type": "display_data"
    },
    {
     "name": "stdout",
     "output_type": "stream",
     "text": [
      "CPU times: user 27.6 ms, sys: 2.06 ms, total: 29.6 ms\n",
      "Wall time: 34.5 ms\n"
     ]
    },
    {
     "data": {
      "application/vnd.jupyter.widget-view+json": {
       "model_id": "",
       "version_major": 2,
       "version_minor": 0
      },
      "text/plain": [
       "FloatProgress(value=0.0, bar_style='info', description='Progress:', layout=Layout(height='25px', width='50%'),…"
      ]
     },
     "metadata": {},
     "output_type": "display_data"
    },
    {
     "name": "stdout",
     "output_type": "stream",
     "text": [
      "CPU times: user 27 ms, sys: 928 µs, total: 27.9 ms\n",
      "Wall time: 31.6 ms\n"
     ]
    },
    {
     "data": {
      "application/vnd.jupyter.widget-view+json": {
       "model_id": "",
       "version_major": 2,
       "version_minor": 0
      },
      "text/plain": [
       "FloatProgress(value=0.0, bar_style='info', description='Progress:', layout=Layout(height='25px', width='50%'),…"
      ]
     },
     "metadata": {},
     "output_type": "display_data"
    },
    {
     "name": "stdout",
     "output_type": "stream",
     "text": [
      "CPU times: user 23.2 ms, sys: 4.02 ms, total: 27.2 ms\n",
      "Wall time: 30.5 ms\n"
     ]
    },
    {
     "data": {
      "application/vnd.jupyter.widget-view+json": {
       "model_id": "",
       "version_major": 2,
       "version_minor": 0
      },
      "text/plain": [
       "FloatProgress(value=0.0, bar_style='info', description='Progress:', layout=Layout(height='25px', width='50%'),…"
      ]
     },
     "metadata": {},
     "output_type": "display_data"
    },
    {
     "name": "stdout",
     "output_type": "stream",
     "text": [
      "CPU times: user 27.3 ms, sys: 784 µs, total: 28 ms\n",
      "Wall time: 31.8 ms\n"
     ]
    },
    {
     "data": {
      "application/vnd.jupyter.widget-view+json": {
       "model_id": "",
       "version_major": 2,
       "version_minor": 0
      },
      "text/plain": [
       "FloatProgress(value=0.0, bar_style='info', description='Progress:', layout=Layout(height='25px', width='50%'),…"
      ]
     },
     "metadata": {},
     "output_type": "display_data"
    },
    {
     "name": "stdout",
     "output_type": "stream",
     "text": [
      "CPU times: user 24 ms, sys: 1.57 ms, total: 25.5 ms\n",
      "Wall time: 29.7 ms\n"
     ]
    },
    {
     "data": {
      "application/vnd.jupyter.widget-view+json": {
       "model_id": "",
       "version_major": 2,
       "version_minor": 0
      },
      "text/plain": [
       "FloatProgress(value=0.0, bar_style='info', description='Progress:', layout=Layout(height='25px', width='50%'),…"
      ]
     },
     "metadata": {},
     "output_type": "display_data"
    },
    {
     "name": "stdout",
     "output_type": "stream",
     "text": [
      "CPU times: user 27.9 ms, sys: 0 ns, total: 27.9 ms\n",
      "Wall time: 31.5 ms\n"
     ]
    },
    {
     "data": {
      "application/vnd.jupyter.widget-view+json": {
       "model_id": "",
       "version_major": 2,
       "version_minor": 0
      },
      "text/plain": [
       "FloatProgress(value=0.0, bar_style='info', description='Progress:', layout=Layout(height='25px', width='50%'),…"
      ]
     },
     "metadata": {},
     "output_type": "display_data"
    },
    {
     "name": "stdout",
     "output_type": "stream",
     "text": [
      "CPU times: user 24.1 ms, sys: 1.58 ms, total: 25.7 ms\n",
      "Wall time: 29.7 ms\n"
     ]
    },
    {
     "data": {
      "application/vnd.jupyter.widget-view+json": {
       "model_id": "",
       "version_major": 2,
       "version_minor": 0
      },
      "text/plain": [
       "FloatProgress(value=0.0, bar_style='info', description='Progress:', layout=Layout(height='25px', width='50%'),…"
      ]
     },
     "metadata": {},
     "output_type": "display_data"
    },
    {
     "name": "stdout",
     "output_type": "stream",
     "text": [
      "CPU times: user 25.8 ms, sys: 2.93 ms, total: 28.7 ms\n",
      "Wall time: 32.9 ms\n"
     ]
    },
    {
     "data": {
      "application/vnd.jupyter.widget-view+json": {
       "model_id": "",
       "version_major": 2,
       "version_minor": 0
      },
      "text/plain": [
       "FloatProgress(value=0.0, bar_style='info', description='Progress:', layout=Layout(height='25px', width='50%'),…"
      ]
     },
     "metadata": {},
     "output_type": "display_data"
    },
    {
     "data": {
      "application/vnd.jupyter.widget-view+json": {
       "model_id": "",
       "version_major": 2,
       "version_minor": 0
      },
      "text/plain": [
       "FloatProgress(value=0.0, bar_style='info', description='Progress:', layout=Layout(height='25px', width='50%'),…"
      ]
     },
     "metadata": {},
     "output_type": "display_data"
    },
    {
     "name": "stdout",
     "output_type": "stream",
     "text": [
      "CPU times: user 25.8 ms, sys: 1.09 ms, total: 26.9 ms\n",
      "Wall time: 30.9 ms\n"
     ]
    },
    {
     "data": {
      "application/vnd.jupyter.widget-view+json": {
       "model_id": "",
       "version_major": 2,
       "version_minor": 0
      },
      "text/plain": [
       "FloatProgress(value=0.0, bar_style='info', description='Progress:', layout=Layout(height='25px', width='50%'),…"
      ]
     },
     "metadata": {},
     "output_type": "display_data"
    },
    {
     "name": "stdout",
     "output_type": "stream",
     "text": [
      "CPU times: user 25.5 ms, sys: 1.83 ms, total: 27.3 ms\n",
      "Wall time: 31 ms\n"
     ]
    },
    {
     "data": {
      "application/vnd.jupyter.widget-view+json": {
       "model_id": "",
       "version_major": 2,
       "version_minor": 0
      },
      "text/plain": [
       "FloatProgress(value=0.0, bar_style='info', description='Progress:', layout=Layout(height='25px', width='50%'),…"
      ]
     },
     "metadata": {},
     "output_type": "display_data"
    },
    {
     "name": "stdout",
     "output_type": "stream",
     "text": [
      "CPU times: user 25.9 ms, sys: 1.05 ms, total: 26.9 ms\n",
      "Wall time: 30.9 ms\n"
     ]
    },
    {
     "data": {
      "application/vnd.jupyter.widget-view+json": {
       "model_id": "",
       "version_major": 2,
       "version_minor": 0
      },
      "text/plain": [
       "FloatProgress(value=0.0, bar_style='info', description='Progress:', layout=Layout(height='25px', width='50%'),…"
      ]
     },
     "metadata": {},
     "output_type": "display_data"
    },
    {
     "name": "stdout",
     "output_type": "stream",
     "text": [
      "CPU times: user 27.4 ms, sys: 193 µs, total: 27.6 ms\n",
      "Wall time: 31.4 ms\n"
     ]
    },
    {
     "data": {
      "application/vnd.jupyter.widget-view+json": {
       "model_id": "",
       "version_major": 2,
       "version_minor": 0
      },
      "text/plain": [
       "FloatProgress(value=0.0, bar_style='info', description='Progress:', layout=Layout(height='25px', width='50%'),…"
      ]
     },
     "metadata": {},
     "output_type": "display_data"
    },
    {
     "name": "stdout",
     "output_type": "stream",
     "text": [
      "CPU times: user 28.3 ms, sys: 1.19 ms, total: 29.5 ms\n",
      "Wall time: 34.1 ms\n"
     ]
    },
    {
     "data": {
      "application/vnd.jupyter.widget-view+json": {
       "model_id": "",
       "version_major": 2,
       "version_minor": 0
      },
      "text/plain": [
       "FloatProgress(value=0.0, bar_style='info', description='Progress:', layout=Layout(height='25px', width='50%'),…"
      ]
     },
     "metadata": {},
     "output_type": "display_data"
    },
    {
     "name": "stdout",
     "output_type": "stream",
     "text": [
      "CPU times: user 28.4 ms, sys: 3.14 ms, total: 31.6 ms\n",
      "Wall time: 41.4 ms\n"
     ]
    },
    {
     "data": {
      "application/vnd.jupyter.widget-view+json": {
       "model_id": "",
       "version_major": 2,
       "version_minor": 0
      },
      "text/plain": [
       "FloatProgress(value=0.0, bar_style='info', description='Progress:', layout=Layout(height='25px', width='50%'),…"
      ]
     },
     "metadata": {},
     "output_type": "display_data"
    },
    {
     "name": "stdout",
     "output_type": "stream",
     "text": [
      "CPU times: user 26.1 ms, sys: 2.95 ms, total: 29.1 ms\n",
      "Wall time: 33.7 ms\n"
     ]
    },
    {
     "data": {
      "application/vnd.jupyter.widget-view+json": {
       "model_id": "",
       "version_major": 2,
       "version_minor": 0
      },
      "text/plain": [
       "FloatProgress(value=0.0, bar_style='info', description='Progress:', layout=Layout(height='25px', width='50%'),…"
      ]
     },
     "metadata": {},
     "output_type": "display_data"
    },
    {
     "name": "stdout",
     "output_type": "stream",
     "text": [
      "CPU times: user 26.3 ms, sys: 4.06 ms, total: 30.4 ms\n",
      "Wall time: 33.3 ms\n"
     ]
    },
    {
     "data": {
      "application/vnd.jupyter.widget-view+json": {
       "model_id": "",
       "version_major": 2,
       "version_minor": 0
      },
      "text/plain": [
       "FloatProgress(value=0.0, bar_style='info', description='Progress:', layout=Layout(height='25px', width='50%'),…"
      ]
     },
     "metadata": {},
     "output_type": "display_data"
    },
    {
     "name": "stdout",
     "output_type": "stream",
     "text": [
      "CPU times: user 27.1 ms, sys: 1 ms, total: 28.1 ms\n",
      "Wall time: 31.4 ms\n"
     ]
    },
    {
     "data": {
      "application/vnd.jupyter.widget-view+json": {
       "model_id": "",
       "version_major": 2,
       "version_minor": 0
      },
      "text/plain": [
       "FloatProgress(value=0.0, bar_style='info', description='Progress:', layout=Layout(height='25px', width='50%'),…"
      ]
     },
     "metadata": {},
     "output_type": "display_data"
    },
    {
     "name": "stdout",
     "output_type": "stream",
     "text": [
      "CPU times: user 33 ms, sys: 2.12 ms, total: 35.1 ms\n",
      "Wall time: 37.9 ms\n"
     ]
    },
    {
     "data": {
      "application/vnd.jupyter.widget-view+json": {
       "model_id": "",
       "version_major": 2,
       "version_minor": 0
      },
      "text/plain": [
       "FloatProgress(value=0.0, bar_style='info', description='Progress:', layout=Layout(height='25px', width='50%'),…"
      ]
     },
     "metadata": {},
     "output_type": "display_data"
    },
    {
     "name": "stdout",
     "output_type": "stream",
     "text": [
      "CPU times: user 38.8 ms, sys: 3.61 ms, total: 42.4 ms\n",
      "Wall time: 45.9 ms\n"
     ]
    },
    {
     "data": {
      "application/vnd.jupyter.widget-view+json": {
       "model_id": "",
       "version_major": 2,
       "version_minor": 0
      },
      "text/plain": [
       "FloatProgress(value=0.0, bar_style='info', description='Progress:', layout=Layout(height='25px', width='50%'),…"
      ]
     },
     "metadata": {},
     "output_type": "display_data"
    },
    {
     "data": {
      "application/vnd.jupyter.widget-view+json": {
       "model_id": "",
       "version_major": 2,
       "version_minor": 0
      },
      "text/plain": [
       "FloatProgress(value=0.0, bar_style='info', description='Progress:', layout=Layout(height='25px', width='50%'),…"
      ]
     },
     "metadata": {},
     "output_type": "display_data"
    },
    {
     "name": "stdout",
     "output_type": "stream",
     "text": [
      "CPU times: user 25.4 ms, sys: 2.87 ms, total: 28.3 ms\n",
      "Wall time: 33.3 ms\n"
     ]
    },
    {
     "data": {
      "application/vnd.jupyter.widget-view+json": {
       "model_id": "",
       "version_major": 2,
       "version_minor": 0
      },
      "text/plain": [
       "FloatProgress(value=0.0, bar_style='info', description='Progress:', layout=Layout(height='25px', width='50%'),…"
      ]
     },
     "metadata": {},
     "output_type": "display_data"
    },
    {
     "name": "stdout",
     "output_type": "stream",
     "text": [
      "CPU times: user 26.1 ms, sys: 2.16 ms, total: 28.2 ms\n",
      "Wall time: 33.5 ms\n"
     ]
    },
    {
     "data": {
      "application/vnd.jupyter.widget-view+json": {
       "model_id": "",
       "version_major": 2,
       "version_minor": 0
      },
      "text/plain": [
       "FloatProgress(value=0.0, bar_style='info', description='Progress:', layout=Layout(height='25px', width='50%'),…"
      ]
     },
     "metadata": {},
     "output_type": "display_data"
    },
    {
     "data": {
      "application/vnd.jupyter.widget-view+json": {
       "model_id": "",
       "version_major": 2,
       "version_minor": 0
      },
      "text/plain": [
       "FloatProgress(value=0.0, bar_style='info', description='Progress:', layout=Layout(height='25px', width='50%'),…"
      ]
     },
     "metadata": {},
     "output_type": "display_data"
    },
    {
     "data": {
      "application/vnd.jupyter.widget-view+json": {
       "model_id": "",
       "version_major": 2,
       "version_minor": 0
      },
      "text/plain": [
       "FloatProgress(value=0.0, bar_style='info', description='Progress:', layout=Layout(height='25px', width='50%'),…"
      ]
     },
     "metadata": {},
     "output_type": "display_data"
    },
    {
     "data": {
      "application/vnd.jupyter.widget-view+json": {
       "model_id": "",
       "version_major": 2,
       "version_minor": 0
      },
      "text/plain": [
       "FloatProgress(value=0.0, bar_style='info', description='Progress:', layout=Layout(height='25px', width='50%'),…"
      ]
     },
     "metadata": {},
     "output_type": "display_data"
    },
    {
     "data": {
      "application/vnd.jupyter.widget-view+json": {
       "model_id": "",
       "version_major": 2,
       "version_minor": 0
      },
      "text/plain": [
       "FloatProgress(value=0.0, bar_style='info', description='Progress:', layout=Layout(height='25px', width='50%'),…"
      ]
     },
     "metadata": {},
     "output_type": "display_data"
    },
    {
     "data": {
      "application/vnd.jupyter.widget-view+json": {
       "model_id": "",
       "version_major": 2,
       "version_minor": 0
      },
      "text/plain": [
       "FloatProgress(value=0.0, bar_style='info', description='Progress:', layout=Layout(height='25px', width='50%'),…"
      ]
     },
     "metadata": {},
     "output_type": "display_data"
    },
    {
     "data": {
      "application/vnd.jupyter.widget-view+json": {
       "model_id": "",
       "version_major": 2,
       "version_minor": 0
      },
      "text/plain": [
       "FloatProgress(value=0.0, bar_style='info', description='Progress:', layout=Layout(height='25px', width='50%'),…"
      ]
     },
     "metadata": {},
     "output_type": "display_data"
    },
    {
     "data": {
      "application/vnd.jupyter.widget-view+json": {
       "model_id": "",
       "version_major": 2,
       "version_minor": 0
      },
      "text/plain": [
       "FloatProgress(value=0.0, bar_style='info', description='Progress:', layout=Layout(height='25px', width='50%'),…"
      ]
     },
     "metadata": {},
     "output_type": "display_data"
    },
    {
     "data": {
      "application/vnd.jupyter.widget-view+json": {
       "model_id": "",
       "version_major": 2,
       "version_minor": 0
      },
      "text/plain": [
       "FloatProgress(value=0.0, bar_style='info', description='Progress:', layout=Layout(height='25px', width='50%'),…"
      ]
     },
     "metadata": {},
     "output_type": "display_data"
    },
    {
     "data": {
      "application/vnd.jupyter.widget-view+json": {
       "model_id": "",
       "version_major": 2,
       "version_minor": 0
      },
      "text/plain": [
       "FloatProgress(value=0.0, bar_style='info', description='Progress:', layout=Layout(height='25px', width='50%'),…"
      ]
     },
     "metadata": {},
     "output_type": "display_data"
    },
    {
     "data": {
      "application/vnd.jupyter.widget-view+json": {
       "model_id": "",
       "version_major": 2,
       "version_minor": 0
      },
      "text/plain": [
       "FloatProgress(value=0.0, bar_style='info', description='Progress:', layout=Layout(height='25px', width='50%'),…"
      ]
     },
     "metadata": {},
     "output_type": "display_data"
    },
    {
     "data": {
      "application/vnd.jupyter.widget-view+json": {
       "model_id": "",
       "version_major": 2,
       "version_minor": 0
      },
      "text/plain": [
       "FloatProgress(value=0.0, bar_style='info', description='Progress:', layout=Layout(height='25px', width='50%'),…"
      ]
     },
     "metadata": {},
     "output_type": "display_data"
    },
    {
     "data": {
      "application/vnd.jupyter.widget-view+json": {
       "model_id": "",
       "version_major": 2,
       "version_minor": 0
      },
      "text/plain": [
       "FloatProgress(value=0.0, bar_style='info', description='Progress:', layout=Layout(height='25px', width='50%'),…"
      ]
     },
     "metadata": {},
     "output_type": "display_data"
    },
    {
     "data": {
      "application/vnd.jupyter.widget-view+json": {
       "model_id": "",
       "version_major": 2,
       "version_minor": 0
      },
      "text/plain": [
       "FloatProgress(value=0.0, bar_style='info', description='Progress:', layout=Layout(height='25px', width='50%'),…"
      ]
     },
     "metadata": {},
     "output_type": "display_data"
    },
    {
     "data": {
      "application/vnd.jupyter.widget-view+json": {
       "model_id": "",
       "version_major": 2,
       "version_minor": 0
      },
      "text/plain": [
       "FloatProgress(value=0.0, bar_style='info', description='Progress:', layout=Layout(height='25px', width='50%'),…"
      ]
     },
     "metadata": {},
     "output_type": "display_data"
    },
    {
     "data": {
      "application/vnd.jupyter.widget-view+json": {
       "model_id": "",
       "version_major": 2,
       "version_minor": 0
      },
      "text/plain": [
       "FloatProgress(value=0.0, bar_style='info', description='Progress:', layout=Layout(height='25px', width='50%'),…"
      ]
     },
     "metadata": {},
     "output_type": "display_data"
    },
    {
     "data": {
      "application/vnd.jupyter.widget-view+json": {
       "model_id": "",
       "version_major": 2,
       "version_minor": 0
      },
      "text/plain": [
       "FloatProgress(value=0.0, bar_style='info', description='Progress:', layout=Layout(height='25px', width='50%'),…"
      ]
     },
     "metadata": {},
     "output_type": "display_data"
    },
    {
     "data": {
      "application/vnd.jupyter.widget-view+json": {
       "model_id": "",
       "version_major": 2,
       "version_minor": 0
      },
      "text/plain": [
       "FloatProgress(value=0.0, bar_style='info', description='Progress:', layout=Layout(height='25px', width='50%'),…"
      ]
     },
     "metadata": {},
     "output_type": "display_data"
    },
    {
     "data": {
      "application/vnd.jupyter.widget-view+json": {
       "model_id": "",
       "version_major": 2,
       "version_minor": 0
      },
      "text/plain": [
       "FloatProgress(value=0.0, bar_style='info', description='Progress:', layout=Layout(height='25px', width='50%'),…"
      ]
     },
     "metadata": {},
     "output_type": "display_data"
    },
    {
     "data": {
      "application/vnd.jupyter.widget-view+json": {
       "model_id": "",
       "version_major": 2,
       "version_minor": 0
      },
      "text/plain": [
       "FloatProgress(value=0.0, bar_style='info', description='Progress:', layout=Layout(height='25px', width='50%'),…"
      ]
     },
     "metadata": {},
     "output_type": "display_data"
    },
    {
     "data": {
      "application/vnd.jupyter.widget-view+json": {
       "model_id": "",
       "version_major": 2,
       "version_minor": 0
      },
      "text/plain": [
       "FloatProgress(value=0.0, bar_style='info', description='Progress:', layout=Layout(height='25px', width='50%'),…"
      ]
     },
     "metadata": {},
     "output_type": "display_data"
    },
    {
     "data": {
      "application/vnd.jupyter.widget-view+json": {
       "model_id": "",
       "version_major": 2,
       "version_minor": 0
      },
      "text/plain": [
       "FloatProgress(value=0.0, bar_style='info', description='Progress:', layout=Layout(height='25px', width='50%'),…"
      ]
     },
     "metadata": {},
     "output_type": "display_data"
    },
    {
     "data": {
      "application/vnd.jupyter.widget-view+json": {
       "model_id": "",
       "version_major": 2,
       "version_minor": 0
      },
      "text/plain": [
       "FloatProgress(value=0.0, bar_style='info', description='Progress:', layout=Layout(height='25px', width='50%'),…"
      ]
     },
     "metadata": {},
     "output_type": "display_data"
    },
    {
     "data": {
      "application/vnd.jupyter.widget-view+json": {
       "model_id": "",
       "version_major": 2,
       "version_minor": 0
      },
      "text/plain": [
       "FloatProgress(value=0.0, bar_style='info', description='Progress:', layout=Layout(height='25px', width='50%'),…"
      ]
     },
     "metadata": {},
     "output_type": "display_data"
    },
    {
     "data": {
      "application/vnd.jupyter.widget-view+json": {
       "model_id": "",
       "version_major": 2,
       "version_minor": 0
      },
      "text/plain": [
       "FloatProgress(value=0.0, bar_style='info', description='Progress:', layout=Layout(height='25px', width='50%'),…"
      ]
     },
     "metadata": {},
     "output_type": "display_data"
    },
    {
     "data": {
      "application/vnd.jupyter.widget-view+json": {
       "model_id": "",
       "version_major": 2,
       "version_minor": 0
      },
      "text/plain": [
       "FloatProgress(value=0.0, bar_style='info', description='Progress:', layout=Layout(height='25px', width='50%'),…"
      ]
     },
     "metadata": {},
     "output_type": "display_data"
    },
    {
     "name": "stdout",
     "output_type": "stream",
     "text": [
      "CPU times: user 1.46 s, sys: 105 ms, total: 1.56 s\n",
      "Wall time: 1.99 s\n"
     ]
    }
   ],
   "source": [
    "%%time\n",
    "\n",
    "%run modulo_calculo_parcelado.ipynb"
   ]
  },
  {
   "cell_type": "markdown",
   "id": "61bf6c94-3abe-4818-9220-f5fa6eb1b8a4",
   "metadata": {},
   "source": [
    "### **Tratamento Inicial dos dados**"
   ]
  },
  {
   "cell_type": "code",
   "execution_count": 14,
   "id": "00a0a937-c397-4401-b713-755b25331550",
   "metadata": {
    "tags": []
   },
   "outputs": [
    {
     "data": {
      "application/vnd.jupyter.widget-view+json": {
       "model_id": "",
       "version_major": 2,
       "version_minor": 0
      },
      "text/plain": [
       "FloatProgress(value=0.0, bar_style='info', description='Progress:', layout=Layout(height='25px', width='50%'),…"
      ]
     },
     "metadata": {},
     "output_type": "display_data"
    }
   ],
   "source": [
    "%%spark\n",
    "\n",
    "import pyspark.sql.functions as F\n",
    "\n",
    "parcelado1 = procedimentosIniciaisTramentoDados(processaRotativoDF)"
   ]
  },
  {
   "cell_type": "markdown",
   "id": "7d9dfaa6-bd6a-4a5a-b24f-7281bf5e71ae",
   "metadata": {},
   "source": [
    "### **Inserção dos dados faltantes**"
   ]
  },
  {
   "cell_type": "code",
   "execution_count": 15,
   "id": "63e17817-85f7-44cc-9496-be5ab0644556",
   "metadata": {},
   "outputs": [
    {
     "data": {
      "application/vnd.jupyter.widget-view+json": {
       "model_id": "",
       "version_major": 2,
       "version_minor": 0
      },
      "text/plain": [
       "FloatProgress(value=0.0, bar_style='info', description='Progress:', layout=Layout(height='25px', width='50%'),…"
      ]
     },
     "metadata": {},
     "output_type": "display_data"
    }
   ],
   "source": [
    "%%spark\n",
    "\n",
    "import pyspark.sql.functions as F\n",
    "\n",
    "\n",
    "InsercaoVariaveisFaltantesDF = parcelado1.withColumn(\"cd_zero\",lit(0))\\\n",
    "                                         .withColumn(\"vl_slim_15_20_apvd\",lit(0))\\\n",
    "                                         .withColumn(\"in_cli_novo_prtt\",lit(\"S\"))\\\n",
    "                                         .withColumn('ic_ajst_recruta', col(\"ic_ajst_rrt\"))\\\n",
    "                                         .withColumn('ic_mtp_recruta', col(\"ic_mtp_rrt\"))\\\n",
    "                                         .withColumn('ic_red_recruta',col(\"ic_red_rrt\"))\\\n",
    "                                         .withColumn(\"wgda_teto_pstc_cdc\", lit(0))\\\n",
    "                                         .withColumn(\"cd_epgr_cli\",col(\"ls_epgr_cli.codigoEmpregadorCliente\"))\\\n",
    "                                         .withColumn(\"cd_ntz\",col(\"ls_epgr_cli.codigonatureza\"))\\\n",
    "                                         .withColumn(\"cd_rgr_rend_lqdo\",col(\"ls_epgr_cli.indicadorRegraRendimentoLiquidacao\"))\\\n",
    "                                         .withColumn(\"cd_ocp_epgr_cli\",col(\"ls_epgr_cli.codigoOcupacaoEmpregadorCliente\"))\\\n",
    "                                         .withColumn(\"vl_rend_lqdo\",col(\"ls_epgr_cli.valorRendimentoLiquido\"))\\\n",
    "                                         .withColumn(\"in_ocp_ppl_scdr\",col(\"ls_epgr_cli.indicadorOcupacaoPrincipalSecundario\"))\\\n",
    "                                         .withColumn(\"dt_inc_scdr\",col(\"ls_epgr_cli.dataInicioSecundario\"))\\\n",
    "                                         .withColumn(\"vl_rend_epgr_cli\",col(\"ls_epgr_cli.valorRendimento\"))\\\n",
    "                                         .withColumn(\"dt_rend_epgr_cli\",col(\"ls_epgr_cli.dataRendimento\"))\\\n",
    "                                         .withColumn(\"cd_epgr_engaj\",col(\"ls_epgr_cmtd.codigoEmpregadorComprometido\"))\\\n",
    "                                         .withColumn(\"cd_slim_rnvc\",col(\"ls_slim_rnv.codigoSublimiteRenovacao\"))\\\n",
    "                                         .withColumn(\"cd_epgr_cgn_flh\",col(\"ls_epgr_cgn_flh.codigoEmpregadorConsignacaoFolha\"))\\\n",
    "                                         .withColumn(\"nr_cli_cvn\", col(\"ls_cvn.numeroClienteConvenio\"))\\\n",
    "                                         .withColumn(\"ic_red_pstc\",col(\"ls_cvn.indiceReducaoPrestacao\"))\\\n",
    "                                         .withColumn(\"cd_slim_crd\",col(\"ls_cvn.codigoSublimiteCredito\"))\\\n",
    "                                         .withColumn(\"ic_ajst_cvn\",col(\"ls_cvn.indiceAjusteConvenio\"))\\\n",
    "                                         .withColumn(\"ic_mtp_cvn\", col(\"ls_cvn.indiceMultiplicadorConvenio\"))\\\n",
    "                                         .withColumn(\"qt_max_mm_fnto\", col(\"ls_cvn.quantidadeMaximoMesFinanciamento\"))\\\n",
    "                                         .withColumn(\"vl_max_cvn\", col(\"ls_cvn.valorMaximoConvenio\"))\\\n",
    "                                         .withColumn(\"vl_mnr_taxa_jur\",col(\"ls_cvn.valorMenorTaxaJuro\"))\\\n",
    "                                         .withColumn(\"cd_epgr_rgm_espl\",col(\"ls_epgr_rgm_espl.codigoEmpregadorRegimeEspecial\"))\\\n",
    "                                         .select(\"*\",\n",
    "                                             col(\"cd_zero\").alias(\"wgda_vl_ren_brto\"),\n",
    "                                             col(\"cd_zero\").alias(\"vl_slim_21_apvd\"),\n",
    "                                             col(\"cd_zero\").alias(\"vl_slim_83_apvd\"),\n",
    "                                             col(\"cd_zero\").alias(\"vl_slim_111_apvd\"),\n",
    "                                             col(\"cd_zero\").alias(\"vl_slim_115_apvd\"),\n",
    "                                             col(\"cd_zero\").alias(\"vl_slim_116_apvd\"),\n",
    "                                             col(\"cd_zero\").alias(\"vl_slim_117_apvd\"),\n",
    "                                             col(\"cd_zero\").alias(\"vl_slim_119_apvd\"),\n",
    "                                             col(\"cd_zero\").alias(\"vl_slim_129_apvd\"),\n",
    "                                             col(\"cd_zero\").alias(\"vl_slim_130_apvd\"),\n",
    "                                             col(\"cd_zero\").alias(\"vl_slim_131_apvd\"),\n",
    "                                             col(\"cd_zero\").alias(\"vl_slim_137_apvd\"),\n",
    "                                             col(\"cd_zero\").alias(\"vl_slim_140_apvd\"),\n",
    "                                             col(\"cd_zero\").alias(\"vl_slim_142_apvd\"),\n",
    "                                             col(\"cd_zero\").alias(\"vl_slim_155_apvd\"),\n",
    "                                             col(\"cd_zero\").alias(\"vl_slim_156_apvd\"),\n",
    "                                             col(\"cd_zero\").alias(\"vl_slim_157_apvd\"),\n",
    "                                             col(\"cd_zero\").alias(\"vl_slim_159_apvd\"),\n",
    "                                             col(\"cd_zero\").alias(\"vl_slim_160_apvd\"),\n",
    "                                             col(\"cd_zero\").alias(\"vl_slim_161_apvd\"),\n",
    "                                             col(\"cd_zero\").alias(\"vl_slim_162_apvd\"),\n",
    "                                             col(\"cd_zero\").alias(\"vl_slim_163_apvd\"),\n",
    "                                             col(\"cd_zero\").alias(\"vl_slim_171_apvd\"),\n",
    "                                             col(\"cd_zero\").alias(\"vl_slim_173_apvd\"),\n",
    "                                             col(\"cd_zero\").alias(\"vl_slim_179_apvd\"),\n",
    "                                             col(\"cd_zero\").alias(\"vl_slim_180_apvd\"),\n",
    "                                             col(\"cd_zero\").alias(\"vl_slim_181_apvd\"),\n",
    "                                             col(\"cd_zero\").alias(\"vl_slim_228_apvd\"),\n",
    "                                             col(\"cd_zero\").alias(\"vl_grupo_45_apvd\"),\n",
    "                                             col(\"cd_zero\").alias(\"vl_grupo_46_apvd\"),\n",
    "                                             col(\"cd_zero\").alias(\"vl_grupo_55_apvd\"),\n",
    "                                             col(\"cd_zero\").alias(\"vl_grupo_60_apvd\"),\n",
    "                                             col(\"cd_zero\").alias(\"vl_grupo_64_apvd\"),\n",
    "                                             col(\"cd_zero\").alias(\"vl_grupo_65_apvd\"),\n",
    "                                             col(\"cd_zero\").alias(\"vl_pstc_cdc_apvd\"),\n",
    "                                             col(\"cd_zero\").alias(\"vl_pstc_vclo_apvd\"),\n",
    "                                             col(\"cd_zero\").alias(\"vl_pstc_rao_apvd\"),\n",
    "                                             col(\"cd_zero\").alias(\"vl_pstc_ecf_apvd\"),\n",
    "                                             col(\"cd_zero\").alias(\"vl_pstc_fun_bb_apvd\"),\n",
    "                                             col(\"cd_zero\").alias(\"vl_slim_21_clcd\"),\n",
    "                                             col(\"cd_zero\").alias(\"vl_slim_83_clcd\"),\n",
    "                                             col(\"cd_zero\").alias(\"vl_slim_111_clcd\"),\n",
    "                                             col(\"cd_zero\").alias(\"vl_slim_115_clcd\"),\n",
    "                                             col(\"cd_zero\").alias(\"vl_slim_116_clcd\"),\n",
    "                                             col(\"cd_zero\").alias(\"vl_slim_117_clcd\"),\n",
    "                                             col(\"cd_zero\").alias(\"vl_slim_119_clcd\"),\n",
    "                                             col(\"cd_zero\").alias(\"vl_slim_129_clcd\"),\n",
    "                                             col(\"cd_zero\").alias(\"vl_slim_130_clcd\"),\n",
    "                                             col(\"cd_zero\").alias(\"vl_slim_131_clcd\"),\n",
    "                                             col(\"cd_zero\").alias(\"vl_slim_137_clcd\"),\n",
    "                                             col(\"cd_zero\").alias(\"vl_slim_140_clcd\"),\n",
    "                                             col(\"cd_zero\").alias(\"vl_slim_142_clcd\"),\n",
    "                                             col(\"cd_zero\").alias(\"vl_slim_155_clcd\"),\n",
    "                                             col(\"cd_zero\").alias(\"vl_slim_156_clcd\"),\n",
    "                                             col(\"cd_zero\").alias(\"vl_slim_157_clcd\"),\n",
    "                                             col(\"cd_zero\").alias(\"vl_slim_159_clcd\"),\n",
    "                                             col(\"cd_zero\").alias(\"vl_slim_160_clcd\"),\n",
    "                                             col(\"cd_zero\").alias(\"vl_slim_161_clcd\"),\n",
    "                                             col(\"cd_zero\").alias(\"vl_slim_162_clcd\"),\n",
    "                                             col(\"cd_zero\").alias(\"vl_slim_163_clcd\"),\n",
    "                                             col(\"cd_zero\").alias(\"vl_slim_171_clcd\"),\n",
    "                                             col(\"cd_zero\").alias(\"vl_slim_173_clcd\"),\n",
    "                                             col(\"cd_zero\").alias(\"vl_slim_179_clcd\"),\n",
    "                                             col(\"cd_zero\").alias(\"vl_slim_180_clcd\"),\n",
    "                                             col(\"cd_zero\").alias(\"vl_slim_181_clcd\"),\n",
    "                                             col(\"cd_zero\").alias(\"vl_slim_228_clcd\"),\n",
    "                                             col(\"cd_zero\").alias(\"vl_grupo_45_clcd\"),\n",
    "                                             col(\"cd_zero\").alias(\"vl_grupo_46_clcd\"),\n",
    "                                             col(\"cd_zero\").alias(\"vl_grupo_55_clcd\"),\n",
    "                                             col(\"cd_zero\").alias(\"vl_grupo_60_clcd\"),\n",
    "                                             col(\"cd_zero\").alias(\"vl_grupo_64_clcd\"),\n",
    "                                             col(\"cd_zero\").alias(\"vl_grupo_65_clcd\"),\n",
    "                                             col(\"cd_zero\").alias(\"vl_pstc_cdc_clcd\"),\n",
    "                                             col(\"cd_zero\").alias(\"vl_pstc_vclo_clcd\"),\n",
    "                                             col(\"cd_zero\").alias(\"vl_pstc_rao_clcd\"),\n",
    "                                             col(\"cd_zero\").alias(\"vl_pstc_ecf_clcd\"),\n",
    "                                             col(\"cd_zero\").alias(\"vl_pstc_fun_bb_clcd\"),\n",
    "                                             col(\"cd_zero\").alias(\"aux_cd_slim\"),\n",
    "                                             col(\"cd_zero\").alias(\"gda_maior_mtp\"),\n",
    "                                             col(\"cd_zero\").alias(\"vl_renda_funci\"),\n",
    "                                             col(\"cd_zero\").alias(\"vl_renda_pres\"),\n",
    "                                             col(\"cd_zero\").alias(\"vl_pstc_ecf_demais\"),\n",
    "                                             col(\"cd_zero\").alias(\"vl_ren_utzd_pstc_ecf\"),\n",
    "                                             col(\"cd_zero\").alias(\"ren_utzd_pstc_ecf\"),\n",
    "                                             col(\"cd_zero\").alias(\"ic_ajst_cvn_137\"),\n",
    "                                             col(\"cd_zero\").alias(\"ic_ajst_cvn_171\"),\n",
    "                                             col(\"cd_zero\").alias(\"vl_pstc_137\"),\n",
    "                                             col(\"cd_zero\").alias(\"vl_max_cvn_083\"),\n",
    "                                             col(\"cd_zero\").alias(\"vl_max_cvn_137\"),\n",
    "                                             col(\"cd_zero\").alias(\"vl_max_cvn_171\"),\n",
    "                                             col(\"cd_zero\").alias(\"vl_pstc_cdc_prtt\"),\n",
    "                                             col(\"cd_zero\").alias(\"in_grava_cvn\"),\n",
    "                                             col(\"cd_zero\").alias(\"in_cli_novo\"),\n",
    "                                             col(\"cd_zero\").alias(\"vl_pstc_083\"),\n",
    "                                             col(\"cd_zero\").alias(\"waux_coef_ren\"),\n",
    "                                             col(\"cd_zero\").alias(\"in_pbco_alvo_115\"),\n",
    "                                             col(\"cd_zero\").alias(\"in_tem_lim_ant\"),\n",
    "                                             col(\"cd_zero\").alias(\"in_cli_adpc_clireab\"),\n",
    "                                             col(\"cd_zero\").alias(\"waux_pstc_slim_171\"),\n",
    "                                             col(\"cd_zero\").alias(\"waux_ic_ajst_cvn_ecf_seld\"),\n",
    "                                             col(\"cd_zero\").alias(\"waux_ic_ajst_cvn_crt_seld\"),\n",
    "                                             col(\"cd_zero\").alias(\"waux_ic_ajst_cvn_sal_seld\"),\n",
    "                                             col(\"cd_zero\").alias(\"ws_vl_pstc_far_clcd_045\"),\n",
    "                                             col(\"cd_zero\").alias(\"ws_vl_pstc_far_apvd_045\"),\n",
    "                                             col(\"cd_zero\").alias(\"vl_ftr_ajst_slim_179\"),\n",
    "                                             col(\"cd_zero\").alias(\"vl_ftr_ajst_slim_228\"),\n",
    "                                             col(\"cd_zero\").alias(\"vl_pstc_ecf_rec\"),\n",
    "                                             col(\"cd_zero\").alias(\"aux_cd_cliente\"),\n",
    "                                             col(\"cd_zero\").alias(\"maior_slim_cdc_apvd\"),\n",
    "                                             col(\"cd_zero\").alias(\"maior_slim_cdc_clcd\"),\n",
    "                                             col(\"cd_zero\").alias(\"maior_slim_funci_apvd\"),\n",
    "                                             col(\"cd_zero\").alias(\"maior_slim_funci_clcd\"),\n",
    "                                             col(\"cd_zero\").alias(\"maior_slim_ecf_apvd\"),\n",
    "                                             col(\"cd_zero\").alias(\"maior_slim_ecf_clcd\"),\n",
    "                                             col(\"cd_zero\").alias(\"waux_pc_cdc\"),\n",
    "                                             col(\"cd_zero\").alias(\"ws_psct_cdc_83_c\"),\n",
    "                                             col(\"cd_zero\").alias(\"ws_psct_cdc_115_c\"),\n",
    "                                             col(\"cd_zero\").alias(\"aux_pstc_slim\"),\n",
    "                                             col(\"cd_zero\").alias(\"aux_mtp_slim\"),\n",
    "                                             col(\"cd_zero\").alias(\"aux_far_slim\"),\n",
    "                                             col(\"cd_zero\").alias(\"aux_vl_lim_ref\"),\n",
    "                                             col(\"cd_zero\").alias(\"aux_redt_vcli\"),\n",
    "                                             col(\"cd_zero\").alias(\"wix_crit\"),\n",
    "                                             col(\"cd_zero\").alias(\"vl_grupo_5564_apvd\"),\n",
    "                                             col(\"cd_zero\").alias(\"vl_grupo_5564_clcd\"),\n",
    "                                             col(\"cd_zero\").alias(\"vl_bloco_14_apvd\"),\n",
    "                                             col(\"cd_zero\").alias(\"vl_bloco_14_clcd\"),\n",
    "                                                )\n",
    "                                         \n",
    "parcelado2 = InsercaoVariaveisFaltantesDF"
   ]
  },
  {
   "cell_type": "markdown",
   "id": "00157d23-3533-4317-8c66-59e817dffb22",
   "metadata": {},
   "source": [
    "### **Inicialização Fluxo Parcelado**"
   ]
  },
  {
   "cell_type": "code",
   "execution_count": 16,
   "id": "596cf25b-17f4-4f9b-9302-1851fe10f4b1",
   "metadata": {},
   "outputs": [
    {
     "data": {
      "application/vnd.jupyter.widget-view+json": {
       "model_id": "",
       "version_major": 2,
       "version_minor": 0
      },
      "text/plain": [
       "FloatProgress(value=0.0, bar_style='info', description='Progress:', layout=Layout(height='25px', width='50%'),…"
      ]
     },
     "metadata": {},
     "output_type": "display_data"
    }
   ],
   "source": [
    "%%spark\n",
    "\n",
    "spark.conf.set(\"spark.sql.shuffle.partitions\", \"20\")"
   ]
  },
  {
   "cell_type": "code",
   "execution_count": 17,
   "id": "9e899558-bf1d-4778-91a5-da95e73b779c",
   "metadata": {
    "tags": []
   },
   "outputs": [
    {
     "data": {
      "application/vnd.jupyter.widget-view+json": {
       "model_id": "",
       "version_major": 2,
       "version_minor": 0
      },
      "text/plain": [
       "FloatProgress(value=0.0, bar_style='info', description='Progress:', layout=Layout(height='25px', width='50%'),…"
      ]
     },
     "metadata": {},
     "output_type": "display_data"
    },
    {
     "name": "stdout",
     "output_type": "stream",
     "text": [
      "Entrando na função ProcessaPrestacao - Bloco 1\n",
      "Entrando na função ancs0160\n",
      "Entrando na funcao aplicaRegraPstcProven\n",
      "Entrando na funcao calculaPrestacao\n",
      "Saindo da função prestacaoCalculada tempo de excução: 0.24293065071105957 \n",
      "Saindo da função RegraPstcProven tempo de excução: 0.39870309829711914 \n",
      "Entrando na funcao aplicaRegraPstcCorren\n",
      "Entrando na calculaPrestacao\n",
      "Saindo da função prestacaoCalculada tempo de excução: 0.22305703163146973 \n",
      "Entrando na funcao RecompRendaLqda\n",
      "Entrando na funcao apuraTeto\n",
      "Entrando na função calculaVlTeto \n",
      "Saindo da função calculaVlTeto tempo de excução: 0.09732437133789062 \n",
      "Saindo da função regraApuraTeto tempo de excução: 0.4004242420196533 \n",
      "Saindo da função regraRecompRendaLqda tempo de excução: 0.7609043121337891 \n",
      "Entrando na funcao trata_Snl_Alerta\n",
      "Saindo da função regraTrataSnAlerta tempo de excução: 6.071078062057495 \n",
      "Entrando na funcao zera_Prestacoes\n",
      "Saindo da função regraZeraPrestacao tempo de excução: 2.1018710136413574 \n",
      "Saindo da função RegraPstcCorren tempo de excução: 10.015457391738892 \n",
      "Saindo da função ancs0160 tempo de excução: 10.991517305374146 \n",
      "Saindo da função ProcessaPrestacao tempo de excução: 11.387295484542847CPU times: user 230 ms, sys: 18.8 ms, total: 249 ms\n",
      "Wall time: 1min 21s\n"
     ]
    }
   ],
   "source": [
    "%%time\n",
    "%%spark\n",
    "\n",
    "parcelado3 = ProcessaParcelado(parcelado2).checkpoint()"
   ]
  },
  {
   "cell_type": "code",
   "execution_count": 18,
   "id": "39579ce0-61db-412e-aadc-dc448003f6b5",
   "metadata": {},
   "outputs": [
    {
     "data": {
      "application/vnd.jupyter.widget-view+json": {
       "model_id": "",
       "version_major": 2,
       "version_minor": 0
      },
      "text/plain": [
       "FloatProgress(value=0.0, bar_style='info', description='Progress:', layout=Layout(height='25px', width='50%'),…"
      ]
     },
     "metadata": {},
     "output_type": "display_data"
    },
    {
     "name": "stdout",
     "output_type": "stream",
     "text": [
      "CPU times: user 32.6 ms, sys: 5.09 ms, total: 37.6 ms\n",
      "Wall time: 243 ms\n"
     ]
    }
   ],
   "source": [
    "%%time\n",
    "%%spark\n",
    "\n",
    "spark.catalog.clearCache()"
   ]
  },
  {
   "cell_type": "code",
   "execution_count": 19,
   "id": "c5ff4925-4caa-48c9-bf4c-c48a28c736be",
   "metadata": {
    "tags": []
   },
   "outputs": [
    {
     "data": {
      "application/vnd.jupyter.widget-view+json": {
       "model_id": "",
       "version_major": 2,
       "version_minor": 0
      },
      "text/plain": [
       "FloatProgress(value=0.0, bar_style='info', description='Progress:', layout=Layout(height='25px', width='50%'),…"
      ]
     },
     "metadata": {},
     "output_type": "display_data"
    },
    {
     "name": "stdout",
     "output_type": "stream",
     "text": [
      "\n",
      "Entrando na função RegraPstcEcfFunci - Bloco 2\n",
      "Entrando na função processar\n",
      "Entrando na funcao inicializa_Vrv_Trab\n",
      "Sainda da função inicializa_Vrv_Trab tempo de execução 2.020948648452759 \n",
      "Entrando na funcao buscaMCI\n",
      "Sainda da função buscaMCI tempo de execução 0.333268404006958 \n",
      "Entrando na funcao pesquisaEpgrDfrt30Pc\n",
      "Entrando na funcao rotina_Principal\n",
      "Sainda da função rotina_PrincipalDF tempo de execução 15.919095754623413 \n",
      "Sainda da função pesquisaEpgrDfrt30Pc tempo de execução 17.452534675598145 \n",
      "Entrando na funcao calcularPstcPF\n",
      "Entrando na funcao calculaRndLiqPres\n",
      "Saindo da função selecionarRndCvn tempo de excução: 47.03688383102417 \n",
      "Entrando na funcao calculaPstcFinal\n",
      "Saindo da função calculaPstcFinal tempo de excução: 23.682544708251953 \n",
      "Entrando na funcao verifZeraPrestacao\n",
      "Saindo da função verifZeraPrestacao tempo de excução: 7.359094619750977 \n",
      "Saindo da função calcularPstcPFDF tempo de excução: 192.21284079551697 \n",
      "Saindo da função processar tempo de excução: 243.10492491722107 \n",
      "Sainda da função RegraPstcEcfFunci tempo de execução 272.1578805446625CPU times: user 912 ms, sys: 86.1 ms, total: 998 ms\n",
      "Wall time: 5min 59s\n"
     ]
    }
   ],
   "source": [
    "%%time\n",
    "%%spark\n",
    "\n",
    "print(\"\")\n",
    "print(\"Entrando na função RegraPstcEcfFunci - Bloco 2\")\n",
    "parcelado4 = RegraPstcEcfFunci(parcelado3).checkpoint()"
   ]
  },
  {
   "cell_type": "code",
   "execution_count": 20,
   "id": "0651b07b-09c3-468b-9a84-05e08235dbdc",
   "metadata": {},
   "outputs": [
    {
     "data": {
      "application/vnd.jupyter.widget-view+json": {
       "model_id": "",
       "version_major": 2,
       "version_minor": 0
      },
      "text/plain": [
       "FloatProgress(value=0.0, bar_style='info', description='Progress:', layout=Layout(height='25px', width='50%'),…"
      ]
     },
     "metadata": {},
     "output_type": "display_data"
    },
    {
     "name": "stdout",
     "output_type": "stream",
     "text": [
      "CPU times: user 24.3 ms, sys: 5.92 ms, total: 30.2 ms\n",
      "Wall time: 31.9 ms\n"
     ]
    }
   ],
   "source": [
    "%%time\n",
    "%%spark\n",
    "\n",
    "spark.catalog.clearCache()"
   ]
  },
  {
   "cell_type": "code",
   "execution_count": 21,
   "id": "5ea0d098-d0d0-4ca7-b2cf-725b6e9f46cf",
   "metadata": {
    "tags": []
   },
   "outputs": [
    {
     "data": {
      "application/vnd.jupyter.widget-view+json": {
       "model_id": "",
       "version_major": 2,
       "version_minor": 0
      },
      "text/plain": [
       "FloatProgress(value=0.0, bar_style='info', description='Progress:', layout=Layout(height='25px', width='50%'),…"
      ]
     },
     "metadata": {},
     "output_type": "display_data"
    },
    {
     "name": "stdout",
     "output_type": "stream",
     "text": [
      "\n",
      "Entrando na função aplicarRegraPstcVclo Bloco 3\n",
      "Entrando na funcao calculaPrestacaoVCLO\n",
      "Saindo da função prestacaoCalculada tempo de excução: 0.20999383926391602 \n",
      "Entrando na funcao calculaPrestacaoVCLO\n",
      "Saindo da função regraTrataSnAlerta_Vclo tempo de excução: 3.743278741836548 \n",
      "Saindo da função RegraPstcVclo tempo de excução: 12.734370708465576CPU times: user 626 ms, sys: 62.7 ms, total: 688 ms\n",
      "Wall time: 4min 6s\n"
     ]
    }
   ],
   "source": [
    "%%time\n",
    "%%spark\n",
    "\n",
    "print(\"\")\n",
    "print(\"Entrando na função aplicarRegraPstcVclo Bloco 3\")\n",
    "parcelado5 = aplicarRegraPstcVclo(parcelado4).checkpoint()"
   ]
  },
  {
   "cell_type": "code",
   "execution_count": 22,
   "id": "f02cfd6c-07ea-46ca-81d9-17c773fa599f",
   "metadata": {},
   "outputs": [
    {
     "data": {
      "application/vnd.jupyter.widget-view+json": {
       "model_id": "",
       "version_major": 2,
       "version_minor": 0
      },
      "text/plain": [
       "FloatProgress(value=0.0, bar_style='info', description='Progress:', layout=Layout(height='25px', width='50%'),…"
      ]
     },
     "metadata": {},
     "output_type": "display_data"
    },
    {
     "name": "stdout",
     "output_type": "stream",
     "text": [
      "CPU times: user 28.8 ms, sys: 5.83 ms, total: 34.6 ms\n",
      "Wall time: 35 ms\n"
     ]
    }
   ],
   "source": [
    "%%time\n",
    "%%spark\n",
    "\n",
    "spark.catalog.clearCache()"
   ]
  },
  {
   "cell_type": "code",
   "execution_count": 23,
   "id": "e725e496-12c0-4327-9002-cedd9ac44d9e",
   "metadata": {
    "tags": []
   },
   "outputs": [
    {
     "data": {
      "application/vnd.jupyter.widget-view+json": {
       "model_id": "",
       "version_major": 2,
       "version_minor": 0
      },
      "text/plain": [
       "FloatProgress(value=0.0, bar_style='info', description='Progress:', layout=Layout(height='25px', width='50%'),…"
      ]
     },
     "metadata": {},
     "output_type": "display_data"
    },
    {
     "name": "stdout",
     "output_type": "stream",
     "text": [
      "\n",
      "Entrando na função slimClcdCdc Bloco 4\n",
      "Entrando na funcao processaCalculo - 173 clcd\n",
      "Entrando na funcao calculaSlim - regra none \n",
      "Saindo da função calculaSlim tempo de excução: 0.40465760231018066 \n",
      "Saindo da função processaCalculo tempo de excução: 0.7215671539306641 \n",
      "Entrando na funcao processaCalculo - 131 clcd\n",
      "Entrando na funcao calculaSlim - regra none \n",
      "Saindo da função calculaSlim tempo de excução: 0.8026213645935059 \n",
      "Saindo da função processaCalculo tempo de excução: 1.3709895610809326 \n",
      "Entrando na funcao processaCalculo - 116 clcd\n",
      "Entrando na funcao calculaSlim - regra none \n",
      "Saindo da função calculaSlim tempo de excução: 1.0139210224151611 \n",
      "Saindo da função processaCalculo tempo de excução: 1.889063835144043 \n",
      "Entrando na funcao vrf_Rnd_Slr_Bnf\n",
      "Saindo da função vrf_Rnd_Slr_BnfDF tempo de excução: 15.361585140228271 \n",
      "Entrando na funcao processaCalculo - 83 clcd\n",
      "Entrando na funcao calculaSlim - regra none \n",
      "Saindo da função calculaSlim tempo de excução: 10.22116994857788 \n",
      "Saindo da função processaCalculo tempo de excução: 16.8359272480011 \n",
      "Entrando na funcao processaCalculo - 115 clcd\n",
      "Entrando na funcao calculaSlim - regra none \n",
      "Saindo da função calculaSlim tempo de excução: 3.5867726802825928 \n",
      "Saindo da função processaCalculo tempo de excução: 6.8837175369262695 \n",
      "Entrando na funcao processaCalculo - 119 clcd\n",
      "Entrando na funcao calculaSlim - regra none \n",
      "Saindo da função calculaSlim tempo de excução: 13.607261657714844 \n",
      "Saindo da função processaCalculo tempo de excução: 25.916427612304688 \n",
      "Entrando na funcao processaCalculo - 156 clcd\n",
      "Entrando na funcao calculaSlim - regra none \n",
      "Saindo da função calculaSlim tempo de excução: 11.964670181274414 \n",
      "Saindo da função processaCalculo tempo de excução: 17.253440141677856 \n",
      "Entrando na funcao processaCalculo - 159 clcd\n",
      "Entrando na funcao calculaSlim - regra none \n",
      "Saindo da função calculaSlim tempo de excução: 2.7754697799682617 \n",
      "Saindo da função processaCalculo tempo de excução: 7.045881986618042 \n",
      "Entrando na funcao processaCalculo - 160 clcd\n",
      "Entrando na funcao calculaSlim - regra none \n",
      "Saindo da função calculaSlim tempo de excução: 3.531024694442749 \n",
      "Saindo da função processaCalculo tempo de excução: 13.989112854003906 \n",
      "Entrando na funcao processaCalculo - 161 clcd\n",
      "Entrando na funcao calculaSlim - regra none \n",
      "Saindo da função calculaSlim tempo de excução: 3.0514113903045654 \n",
      "Saindo da função processaCalculo tempo de excução: 5.47969126701355 \n",
      "Entrando na funcao processaCalculo - 163 clcd\n",
      "Entrando na funcao calculaSlim - regra none \n",
      "Saindo da função calculaSlim tempo de excução: 3.190946102142334 \n",
      "Saindo da função processaCalculo tempo de excução: 5.972264051437378 \n",
      "Entrando na funcao processaCalculo - 142 clcd\n",
      "Entrando na funcao calculaSlim - regra none \n",
      "Saindo da função calculaSlim tempo de excução: 3.1690268516540527 \n",
      "Saindo da função processaCalculo tempo de excução: 5.982585430145264 \n",
      "Saindo da função slimClcdCdc tempo de excução: 149.5125195980072CPU times: user 861 ms, sys: 75.3 ms, total: 936 ms\n",
      "Wall time: 6min 11s\n"
     ]
    }
   ],
   "source": [
    "%%time\n",
    "%%spark\n",
    "\n",
    "print(\"\")  \n",
    "print(\"Entrando na função slimClcdCdc Bloco 4\")\n",
    "parcelado6 = slimClcdCdc(parcelado5).checkpoint()"
   ]
  },
  {
   "cell_type": "code",
   "execution_count": 24,
   "id": "2b1c6d17-af94-4a14-af59-2d246dc9980b",
   "metadata": {},
   "outputs": [
    {
     "data": {
      "application/vnd.jupyter.widget-view+json": {
       "model_id": "",
       "version_major": 2,
       "version_minor": 0
      },
      "text/plain": [
       "FloatProgress(value=0.0, bar_style='info', description='Progress:', layout=Layout(height='25px', width='50%'),…"
      ]
     },
     "metadata": {},
     "output_type": "display_data"
    },
    {
     "name": "stdout",
     "output_type": "stream",
     "text": [
      "CPU times: user 24.5 ms, sys: 4.08 ms, total: 28.6 ms\n",
      "Wall time: 30.6 ms\n"
     ]
    }
   ],
   "source": [
    "%%time\n",
    "%%spark\n",
    "\n",
    "spark.catalog.clearCache()"
   ]
  },
  {
   "cell_type": "code",
   "execution_count": 25,
   "id": "e7f45d9e-a94f-4aff-9018-36ba97dff599",
   "metadata": {
    "tags": []
   },
   "outputs": [
    {
     "data": {
      "application/vnd.jupyter.widget-view+json": {
       "model_id": "",
       "version_major": 2,
       "version_minor": 0
      },
      "text/plain": [
       "FloatProgress(value=0.0, bar_style='info', description='Progress:', layout=Layout(height='25px', width='50%'),…"
      ]
     },
     "metadata": {},
     "output_type": "display_data"
    },
    {
     "name": "stdout",
     "output_type": "stream",
     "text": [
      "\n",
      "Entrando na função slimApvdCdc Blcoo 5\n",
      "Entrando na funcao processaCalculo - 173 apvd\n",
      "Entrando na funcao calculaSlim - regra none \n",
      "Saindo da função calculaSlim tempo de excução: 0.49417734146118164 \n",
      "Saindo da função processaCalculo tempo de excução: 0.8705697059631348 \n",
      "Entrando na funcao processaCalculo - 131 apvd\n",
      "Entrando na funcao calculaSlim - regra none \n",
      "Saindo da função calculaSlim tempo de excução: 0.53045654296875 \n",
      "Saindo da função processaCalculo tempo de excução: 0.9603750705718994 \n",
      "Entrando na funcao processaCalculo - 116 apvd\n",
      "Entrando na funcao calculaSlim - regra none \n",
      "Saindo da função calculaSlim tempo de excução: 0.7535810470581055 \n",
      "Saindo da função processaCalculo tempo de excução: 1.4097280502319336 \n",
      "Entrando na funcao vrf_Rnd_Slr_Bnf\n",
      "Saindo da função vrf_Rnd_Slr_BnfDF tempo de excução: 4.668126583099365 \n",
      "Entrando na funcao processaCalculo - 83 apvd\n",
      "Entrando na funcao calculaSlim - regra none \n",
      "Saindo da função calculaSlim tempo de excução: 1.8842759132385254 \n",
      "Saindo da função processaCalculo tempo de excução: 3.38420033454895 \n",
      "Entrando na funcao processaCalculo - 115 apvd\n",
      "Entrando na funcao calculaSlim - regra none \n",
      "Saindo da função calculaSlim tempo de excução: 2.7451395988464355 \n",
      "Saindo da função processaCalculo tempo de excução: 4.724090337753296 \n",
      "Entrando na funcao processaCalculo - 119 apvd\n",
      "Entrando na funcao calculaSlim - regra none \n",
      "Saindo da função calculaSlim tempo de excução: 2.2151453495025635 \n",
      "Saindo da função processaCalculo tempo de excução: 4.9165825843811035 \n",
      "Entrando na funcao processaCalculo - 156 apvd\n",
      "Entrando na funcao calculaSlim - regra none \n",
      "Saindo da função calculaSlim tempo de excução: 2.8028757572174072 \n",
      "Saindo da função processaCalculo tempo de excução: 4.792428731918335 \n",
      "Entrando na funcao processaCalculo - 159 apvd\n",
      "Entrando na funcao calculaSlim - regra none \n",
      "Saindo da função calculaSlim tempo de excução: 6.4049272537231445 \n",
      "Saindo da função processaCalculo tempo de excução: 11.299031496047974 \n",
      "Entrando na funcao processaCalculo - 160 apvd\n",
      "Entrando na funcao calculaSlim - regra none \n",
      "Saindo da função calculaSlim tempo de excução: 4.567239046096802 \n",
      "Saindo da função processaCalculo tempo de excução: 7.754176139831543 \n",
      "Entrando na funcao processaCalculo - 161 apvd\n",
      "Entrando na funcao calculaSlim - regra none \n",
      "Saindo da função calculaSlim tempo de excução: 3.0608816146850586 \n",
      "Saindo da função processaCalculo tempo de excução: 5.721983432769775 \n",
      "Entrando na funcao processaCalculo - 163 apvd\n",
      "Entrando na funcao calculaSlim - regra none \n",
      "Saindo da função calculaSlim tempo de excução: 2.9717743396759033 \n",
      "Saindo da função processaCalculo tempo de excução: 5.325597524642944 \n",
      "Entrando na funcao processaCalculo - 142 apvd\n",
      "Entrando na funcao calculaSlim - regra none \n",
      "Saindo da função calculaSlim tempo de excução: 3.49636173248291 \n",
      "Saindo da função processaCalculo tempo de excução: 6.693221807479858 \n",
      "Saindo da função slimApvdCdc tempo de excução: 92.1687958240509CPU times: user 460 ms, sys: 33.2 ms, total: 493 ms\n",
      "Wall time: 3min 10s\n"
     ]
    }
   ],
   "source": [
    "%%time\n",
    "%%spark\n",
    "\n",
    "print(\"\")\n",
    "print(\"Entrando na função slimApvdCdc Blcoo 5\")\n",
    "parcelado7 = slimApvdCdc(parcelado6).checkpoint()"
   ]
  },
  {
   "cell_type": "code",
   "execution_count": 26,
   "id": "0a064d54-6d65-457b-89c1-9c9efdefd95a",
   "metadata": {},
   "outputs": [
    {
     "data": {
      "application/vnd.jupyter.widget-view+json": {
       "model_id": "",
       "version_major": 2,
       "version_minor": 0
      },
      "text/plain": [
       "FloatProgress(value=0.0, bar_style='info', description='Progress:', layout=Layout(height='25px', width='50%'),…"
      ]
     },
     "metadata": {},
     "output_type": "display_data"
    },
    {
     "name": "stdout",
     "output_type": "stream",
     "text": [
      "CPU times: user 24.2 ms, sys: 2.04 ms, total: 26.2 ms\n",
      "Wall time: 28.6 ms\n"
     ]
    }
   ],
   "source": [
    "%%time\n",
    "%%spark\n",
    "\n",
    "spark.catalog.clearCache()"
   ]
  },
  {
   "cell_type": "code",
   "execution_count": 27,
   "id": "ed78c453-0523-47bd-9617-cb912b238634",
   "metadata": {
    "tags": []
   },
   "outputs": [
    {
     "data": {
      "application/vnd.jupyter.widget-view+json": {
       "model_id": "",
       "version_major": 2,
       "version_minor": 0
      },
      "text/plain": [
       "FloatProgress(value=0.0, bar_style='info', description='Progress:', layout=Layout(height='25px', width='50%'),…"
      ]
     },
     "metadata": {},
     "output_type": "display_data"
    },
    {
     "name": "stdout",
     "output_type": "stream",
     "text": [
      "\n",
      "Entrando na função calculaGrupoCDC Bloco 6\n",
      "Saindo da função calculaGrupoCDC tempo de excução: 1.8605878353118896CPU times: user 225 ms, sys: 18.6 ms, total: 243 ms\n",
      "Wall time: 1min 17s\n"
     ]
    }
   ],
   "source": [
    "%%time\n",
    "%%spark\n",
    "\n",
    "print(\"\")\n",
    "print(\"Entrando na função calculaGrupoCDC Bloco 6\")\n",
    "parcelado8 = calculaGrupoCDC(parcelado7).checkpoint()"
   ]
  },
  {
   "cell_type": "code",
   "execution_count": 28,
   "id": "a2a3e2ce-f9bb-452f-bf64-2664e697077d",
   "metadata": {
    "tags": []
   },
   "outputs": [
    {
     "data": {
      "application/vnd.jupyter.widget-view+json": {
       "model_id": "",
       "version_major": 2,
       "version_minor": 0
      },
      "text/plain": [
       "FloatProgress(value=0.0, bar_style='info', description='Progress:', layout=Layout(height='25px', width='50%'),…"
      ]
     },
     "metadata": {},
     "output_type": "display_data"
    },
    {
     "name": "stdout",
     "output_type": "stream",
     "text": [
      "\n",
      "Entrando na função slim_Vclo Bloco 7\n",
      "Entrando na função calculaSlim \n",
      "Saindo da função calculaSlim tempo de excução: 0.18163585662841797 \n",
      "Saindo da função slim_Vclo tempo de excução: 1.3679020404815674CPU times: user 132 ms, sys: 10.5 ms, total: 143 ms\n",
      "Wall time: 37.4 s\n"
     ]
    }
   ],
   "source": [
    "%%time\n",
    "%%spark\n",
    "\n",
    "print(\"\")\n",
    "print(\"Entrando na função slim_Vclo Bloco 7\")\n",
    "parcelado9 = slim_Vclo(parcelado8).checkpoint()"
   ]
  },
  {
   "cell_type": "code",
   "execution_count": 29,
   "id": "100fa3f7-78cb-4946-9750-70e63d806add",
   "metadata": {},
   "outputs": [
    {
     "data": {
      "application/vnd.jupyter.widget-view+json": {
       "model_id": "",
       "version_major": 2,
       "version_minor": 0
      },
      "text/plain": [
       "FloatProgress(value=0.0, bar_style='info', description='Progress:', layout=Layout(height='25px', width='50%'),…"
      ]
     },
     "metadata": {},
     "output_type": "display_data"
    },
    {
     "name": "stdout",
     "output_type": "stream",
     "text": [
      "CPU times: user 35.5 ms, sys: 1.88 ms, total: 37.3 ms\n",
      "Wall time: 38.3 ms\n"
     ]
    }
   ],
   "source": [
    "%%time\n",
    "%%spark\n",
    "\n",
    "spark.catalog.clearCache()"
   ]
  },
  {
   "cell_type": "code",
   "execution_count": 30,
   "id": "6eab852c-986b-415f-80fa-96e88510a6c8",
   "metadata": {
    "tags": []
   },
   "outputs": [
    {
     "data": {
      "application/vnd.jupyter.widget-view+json": {
       "model_id": "",
       "version_major": 2,
       "version_minor": 0
      },
      "text/plain": [
       "FloatProgress(value=0.0, bar_style='info', description='Progress:', layout=Layout(height='25px', width='50%'),…"
      ]
     },
     "metadata": {},
     "output_type": "display_data"
    },
    {
     "name": "stdout",
     "output_type": "stream",
     "text": [
      "\n",
      "Entrando na função slim_ecf Bloco 8\n",
      "Entrando na processaCalculo - 137 apvd\n",
      "Entrando na funcao calculaSlim - regra 1 \n",
      "Saindo da função calculaSlim tempo de excução: 0.1445927619934082 \n",
      "Saindo da função processaCalculo tempo de excução: 0.6036739349365234 \n",
      "Entrando na processaCalculo - 137 clcd\n",
      "Entrando na funcao calculaSlim - regra 1 \n",
      "Saindo da função calculaSlim tempo de excução: 0.13337230682373047 \n",
      "Saindo da função processaCalculo tempo de excução: 0.6324083805084229 \n",
      "Entrando na processaCalculo - 155 apvd\n",
      "Entrando na funcao calculaSlim - regra 1 \n",
      "Saindo da função calculaSlim tempo de excução: 0.23195672035217285 \n",
      "Saindo da função processaCalculo tempo de excução: 0.7749605178833008 \n",
      "Entrando na processaCalculo - 155 clcd\n",
      "Entrando na funcao calculaSlim - regra 1 \n",
      "Saindo da função calculaSlim tempo de excução: 0.22062444686889648 \n",
      "Saindo da função processaCalculo tempo de excução: 1.0424528121948242 \n",
      "Entrando na processaCalculo - 171 apvd\n",
      "Entrando na funcao calculaSlim - regra 1 \n",
      "Saindo da função calculaSlim tempo de excução: 0.21657419204711914 \n",
      "Saindo da função processaCalculo tempo de excução: 0.9807400703430176 \n",
      "Entrando na processaCalculo - 171 clcd\n",
      "Entrando na funcao calculaSlim - regra 1 \n",
      "Saindo da função calculaSlim tempo de excução: 0.22533631324768066 \n",
      "Saindo da função processaCalculo tempo de excução: 1.0953352451324463 \n",
      "Entrando na processaCalculo - 155 apvd\n",
      "Entrando na funcao calculaSlim - regra 1 \n",
      "Saindo da função calculaSlim tempo de excução: 0.2862889766693115 \n",
      "Saindo da função processaCalculo tempo de excução: 1.4216880798339844 \n",
      "Entrando na processaCalculo - 155 clcd\n",
      "Entrando na funcao calculaSlim - regra 1 \n",
      "Saindo da função calculaSlim tempo de excução: 0.26809239387512207 \n",
      "Saindo da função processaCalculo tempo de excução: 1.4019694328308105 \n",
      "Entrando na funcao processaCalculo - 179 apvd\n",
      "Entrando na funcao calculaSlim - regra 1 \n",
      "Saindo da função calculaSlim tempo de excução: 0.5189440250396729 \n",
      "Saindo da função processaCalculo tempo de excução: 2.208714723587036 \n",
      "Entrando na funcao processaCalculo - 179 clcd\n",
      "Entrando na funcao calculaSlim - regra 1 \n",
      "Saindo da função calculaSlim tempo de excução: 0.35352015495300293 \n",
      "Saindo da função processaCalculo tempo de excução: 1.8038537502288818 \n",
      "Saindo da função slim_ecf tempo de excução: 20.90963864326477CPU times: user 204 ms, sys: 15.2 ms, total: 220 ms\n",
      "Wall time: 1min 13s\n"
     ]
    }
   ],
   "source": [
    "%%time\n",
    "%%spark\n",
    "\n",
    "print(\"\")\n",
    "print(\"Entrando na função slim_ecf Bloco 8\")\n",
    "parcelado10 = slim_ecf(parcelado9).checkpoint()"
   ]
  },
  {
   "cell_type": "code",
   "execution_count": 31,
   "id": "2958c5e1-2d07-425e-b59f-c750b22daf83",
   "metadata": {},
   "outputs": [
    {
     "data": {
      "application/vnd.jupyter.widget-view+json": {
       "model_id": "",
       "version_major": 2,
       "version_minor": 0
      },
      "text/plain": [
       "FloatProgress(value=0.0, bar_style='info', description='Progress:', layout=Layout(height='25px', width='50%'),…"
      ]
     },
     "metadata": {},
     "output_type": "display_data"
    },
    {
     "name": "stdout",
     "output_type": "stream",
     "text": [
      "CPU times: user 28.1 ms, sys: 1.11 ms, total: 29.2 ms\n",
      "Wall time: 30.7 ms\n"
     ]
    }
   ],
   "source": [
    "%%time\n",
    "%%spark\n",
    "\n",
    "spark.catalog.clearCache()"
   ]
  },
  {
   "cell_type": "code",
   "execution_count": 32,
   "id": "31d8c5a4-52d2-4568-8b05-f8657005bc18",
   "metadata": {
    "tags": []
   },
   "outputs": [
    {
     "data": {
      "application/vnd.jupyter.widget-view+json": {
       "model_id": "",
       "version_major": 2,
       "version_minor": 0
      },
      "text/plain": [
       "FloatProgress(value=0.0, bar_style='info', description='Progress:', layout=Layout(height='25px', width='50%'),…"
      ]
     },
     "metadata": {},
     "output_type": "display_data"
    },
    {
     "name": "stdout",
     "output_type": "stream",
     "text": [
      "\n",
      "Entrando na função calculaGrupoECF Bloco 9\n",
      "Saindo da função calculaGrupoECF tempo de excução: 0.17722845077514648CPU times: user 106 ms, sys: 8.23 ms, total: 114 ms\n",
      "Wall time: 27.4 s\n"
     ]
    }
   ],
   "source": [
    "%%time\n",
    "%%spark\n",
    "\n",
    "print(\"\")  \n",
    "print(\"Entrando na função calculaGrupoECF Bloco 9\")\n",
    "parcelado11 = calculaGrupoECF(parcelado10).checkpoint()"
   ]
  },
  {
   "cell_type": "code",
   "execution_count": 33,
   "id": "50b76445-0524-46e9-8cba-73129b781f19",
   "metadata": {
    "tags": []
   },
   "outputs": [
    {
     "data": {
      "application/vnd.jupyter.widget-view+json": {
       "model_id": "",
       "version_major": 2,
       "version_minor": 0
      },
      "text/plain": [
       "FloatProgress(value=0.0, bar_style='info', description='Progress:', layout=Layout(height='25px', width='50%'),…"
      ]
     },
     "metadata": {},
     "output_type": "display_data"
    },
    {
     "name": "stdout",
     "output_type": "stream",
     "text": [
      "CPU times: user 26.3 ms, sys: 1.13 ms, total: 27.4 ms\n",
      "Wall time: 29.2 ms\n"
     ]
    }
   ],
   "source": [
    "%%time\n",
    "%%spark\n",
    "\n",
    "spark.catalog.clearCache()"
   ]
  },
  {
   "cell_type": "code",
   "execution_count": 34,
   "id": "b9bc339d-d452-47ff-bcce-daaee9b136f1",
   "metadata": {
    "tags": []
   },
   "outputs": [
    {
     "data": {
      "application/vnd.jupyter.widget-view+json": {
       "model_id": "",
       "version_major": 2,
       "version_minor": 0
      },
      "text/plain": [
       "FloatProgress(value=0.0, bar_style='info', description='Progress:', layout=Layout(height='25px', width='50%'),…"
      ]
     },
     "metadata": {},
     "output_type": "display_data"
    },
    {
     "name": "stdout",
     "output_type": "stream",
     "text": [
      "\n",
      "Entrando na função slim_Funci Bloco 10\n",
      "Entrando na funcao calculaSlim - regra 1 \n",
      "Saindo da função calculaSlim tempo de excução: 0.12721681594848633 \n",
      "Saindo da função processaCalculo tempo de excução: 0.5062353610992432 \n",
      "Entrando na funcao calculaSlim - regra 1 \n",
      "Saindo da função calculaSlim tempo de excução: 0.11584734916687012 \n",
      "Saindo da função processaCalculo tempo de excução: 0.5520591735839844 \n",
      "Entrando na funcao calculaSlim - regra none \n",
      "Saindo da função calculaSlim tempo de excução: 0.5419552326202393 \n",
      "Saindo da função processaCalculo tempo de excução: 0.9812507629394531 \n",
      "Entrando na funcao calculaSlim - regra none \n",
      "Saindo da função calculaSlim tempo de excução: 0.6233298778533936 \n",
      "Saindo da função processaCalculo tempo de excução: 1.172004222869873 \n",
      "Entrando na funcao calculaSlim - regra 1 \n",
      "Saindo da função calculaSlim tempo de excução: 0.2926161289215088 \n",
      "Saindo da função processaCalculo tempo de excução: 1.0959198474884033 \n",
      "Entrando na funcao calculaSlim - regra 1 \n",
      "Saindo da função calculaSlim tempo de excução: 0.21230387687683105 \n",
      "Saindo da função processaCalculo tempo de excução: 1.262955904006958 \n",
      "Entrando na funcao calculaSlim - regra 1 \n",
      "Saindo da função calculaSlim tempo de excução: 0.23437952995300293 \n",
      "Saindo da função processaCalculo tempo de excução: 1.0420236587524414 \n",
      "Entrando na funcao calculaSlim - regra 1 \n",
      "Saindo da função calculaSlim tempo de excução: 0.2916097640991211 \n",
      "Saindo da função processaCalculo tempo de excução: 1.2095842361450195 \n",
      "Saindo da função slim_Funci tempo de excução: 13.10982894897461CPU times: user 348 ms, sys: 32 ms, total: 380 ms\n",
      "Wall time: 2min 21s\n"
     ]
    }
   ],
   "source": [
    "%%time\n",
    "%%spark\n",
    "\n",
    "print(\"\")  \n",
    "print(\"Entrando na função slim_Funci Bloco 10\")\n",
    "parcelado12 = slim_Funci(parcelado11).checkpoint()"
   ]
  },
  {
   "cell_type": "code",
   "execution_count": 35,
   "id": "a2c7797c-7a9f-463f-85bf-9e6063b10cb6",
   "metadata": {
    "tags": []
   },
   "outputs": [
    {
     "data": {
      "application/vnd.jupyter.widget-view+json": {
       "model_id": "",
       "version_major": 2,
       "version_minor": 0
      },
      "text/plain": [
       "FloatProgress(value=0.0, bar_style='info', description='Progress:', layout=Layout(height='25px', width='50%'),…"
      ]
     },
     "metadata": {},
     "output_type": "display_data"
    },
    {
     "name": "stdout",
     "output_type": "stream",
     "text": [
      "CPU times: user 31.1 ms, sys: 6.05 ms, total: 37.1 ms\n",
      "Wall time: 37.6 ms\n"
     ]
    }
   ],
   "source": [
    "%%time\n",
    "%%spark\n",
    "\n",
    "spark.catalog.clearCache()"
   ]
  },
  {
   "cell_type": "code",
   "execution_count": 36,
   "id": "4316381a-4798-4bd4-a783-24dfd8379720",
   "metadata": {
    "tags": []
   },
   "outputs": [
    {
     "data": {
      "application/vnd.jupyter.widget-view+json": {
       "model_id": "",
       "version_major": 2,
       "version_minor": 0
      },
      "text/plain": [
       "FloatProgress(value=0.0, bar_style='info', description='Progress:', layout=Layout(height='25px', width='50%'),…"
      ]
     },
     "metadata": {},
     "output_type": "display_data"
    },
    {
     "name": "stdout",
     "output_type": "stream",
     "text": [
      "\n",
      "Entrando na função calculaGrupoRAO Bloco 11\n",
      "Saindo da função calculoGrupoRao tempo de excução: 0.4907798767089844CPU times: user 36.2 ms, sys: 4.89 ms, total: 41.1 ms\n",
      "Wall time: 1.25 s\n"
     ]
    }
   ],
   "source": [
    "%%time\n",
    "%%spark\n",
    "\n",
    "print(\"\")  \n",
    "print(\"Entrando na função calculaGrupoRAO Bloco 11\")\n",
    "parcelado13 = calculaGrupoRao(parcelado12).cache()"
   ]
  },
  {
   "cell_type": "code",
   "execution_count": 37,
   "id": "8d2b5555-e80f-482e-8856-d610cd01fa93",
   "metadata": {
    "tags": []
   },
   "outputs": [
    {
     "data": {
      "application/vnd.jupyter.widget-view+json": {
       "model_id": "",
       "version_major": 2,
       "version_minor": 0
      },
      "text/plain": [
       "FloatProgress(value=0.0, bar_style='info', description='Progress:', layout=Layout(height='25px', width='50%'),…"
      ]
     },
     "metadata": {},
     "output_type": "display_data"
    },
    {
     "name": "stdout",
     "output_type": "stream",
     "text": [
      "\n",
      "Entrando na função calculaGrupoFunc Bloco 12\n",
      "Saindo da função calculoGrupoFunc tempo de excução: 1.0931453704833984CPU times: user 47.4 ms, sys: 3 ms, total: 50.4 ms\n",
      "Wall time: 2.26 s\n"
     ]
    }
   ],
   "source": [
    "%%time\n",
    "%%spark\n",
    "\n",
    "print(\"\")  \n",
    "print(\"Entrando na função calculaGrupoFunc Bloco 12\")\n",
    "parcelado14 = calculaGrupoFunc(parcelado13).cache()"
   ]
  },
  {
   "cell_type": "code",
   "execution_count": 38,
   "id": "0150f8ae-9e84-4101-b01f-3e43476b7dfb",
   "metadata": {
    "tags": []
   },
   "outputs": [
    {
     "data": {
      "application/vnd.jupyter.widget-view+json": {
       "model_id": "",
       "version_major": 2,
       "version_minor": 0
      },
      "text/plain": [
       "FloatProgress(value=0.0, bar_style='info', description='Progress:', layout=Layout(height='25px', width='50%'),…"
      ]
     },
     "metadata": {},
     "output_type": "display_data"
    },
    {
     "name": "stdout",
     "output_type": "stream",
     "text": [
      "\n",
      "Entrando na função calculaGrupoVCLO Bloco 13\n",
      "Saindo da função calculoGrupoVCLO tempo de excução: 0.2585928440093994CPU times: user 40.2 ms, sys: 5.89 ms, total: 46.1 ms\n",
      "Wall time: 750 ms\n"
     ]
    }
   ],
   "source": [
    "%%time\n",
    "%%spark\n",
    "\n",
    "print(\"\")  \n",
    "print(\"Entrando na função calculaGrupoVCLO Bloco 13\")\n",
    "parcelado15 = calculaGrupoVCLO(parcelado14).cache()"
   ]
  },
  {
   "cell_type": "code",
   "execution_count": 39,
   "id": "dc85f8d6-0c82-48ed-9e43-b3f594dde847",
   "metadata": {
    "tags": []
   },
   "outputs": [
    {
     "data": {
      "application/vnd.jupyter.widget-view+json": {
       "model_id": "",
       "version_major": 2,
       "version_minor": 0
      },
      "text/plain": [
       "FloatProgress(value=0.0, bar_style='info', description='Progress:', layout=Layout(height='25px', width='50%'),…"
      ]
     },
     "metadata": {},
     "output_type": "display_data"
    },
    {
     "name": "stdout",
     "output_type": "stream",
     "text": [
      "\n",
      "Entrando na função calculaGrupoRDEX Bloco 14\n",
      "Saindo da função calculoGrupoRDEX tempo de excução: 0.7204775810241699CPU times: user 167 ms, sys: 20.1 ms, total: 188 ms\n",
      "Wall time: 51.5 s\n"
     ]
    }
   ],
   "source": [
    "%%time\n",
    "%%spark\n",
    "\n",
    "print(\"\")  \n",
    "print(\"Entrando na função calculaGrupoRDEX Bloco 14\")\n",
    "parcelado16 = calculaGrupoRDEX(parcelado15).checkpoint()"
   ]
  },
  {
   "cell_type": "code",
   "execution_count": 40,
   "id": "cdef1efc-0a7c-4bf4-a2fe-8c2d6ef1a858",
   "metadata": {
    "tags": []
   },
   "outputs": [
    {
     "data": {
      "application/vnd.jupyter.widget-view+json": {
       "model_id": "",
       "version_major": 2,
       "version_minor": 0
      },
      "text/plain": [
       "FloatProgress(value=0.0, bar_style='info', description='Progress:', layout=Layout(height='25px', width='50%'),…"
      ]
     },
     "metadata": {},
     "output_type": "display_data"
    },
    {
     "name": "stdout",
     "output_type": "stream",
     "text": [
      "CPU times: user 35.9 ms, sys: 3.69 ms, total: 39.6 ms\n",
      "Wall time: 41.6 ms\n"
     ]
    }
   ],
   "source": [
    "%%time\n",
    "%%spark\n",
    "\n",
    "spark.catalog.clearCache()"
   ]
  },
  {
   "cell_type": "code",
   "execution_count": 41,
   "id": "635fb3a3-1709-43bd-ad49-a98556f5be1b",
   "metadata": {
    "tags": []
   },
   "outputs": [
    {
     "data": {
      "application/vnd.jupyter.widget-view+json": {
       "model_id": "",
       "version_major": 2,
       "version_minor": 0
      },
      "text/plain": [
       "FloatProgress(value=0.0, bar_style='info', description='Progress:', layout=Layout(height='25px', width='50%'),…"
      ]
     },
     "metadata": {},
     "output_type": "display_data"
    },
    {
     "name": "stdout",
     "output_type": "stream",
     "text": [
      "\n",
      "Entrando na função calculaBloco Bloco 15\n",
      "Saindo da função calculoBloco tempo de excução: 0.8636205196380615CPU times: user 49.3 ms, sys: 8.94 ms, total: 58.2 ms\n",
      "Wall time: 2.27 s\n"
     ]
    }
   ],
   "source": [
    "%%time\n",
    "%%spark\n",
    "\n",
    "print(\"\")  \n",
    "print(\"Entrando na função calculaBloco Bloco 15\")\n",
    "parcelado17 = calculaBloco(parcelado16).cache()"
   ]
  },
  {
   "cell_type": "code",
   "execution_count": 42,
   "id": "3be2e253-1185-4aee-9bea-aa565b84f136",
   "metadata": {},
   "outputs": [
    {
     "data": {
      "application/vnd.jupyter.widget-view+json": {
       "model_id": "",
       "version_major": 2,
       "version_minor": 0
      },
      "text/plain": [
       "FloatProgress(value=0.0, bar_style='info', description='Progress:', layout=Layout(height='25px', width='50%'),…"
      ]
     },
     "metadata": {},
     "output_type": "display_data"
    }
   ],
   "source": [
    "%%spark\n",
    "\n",
    "spark.conf.set(\"spark.sql.shuffle.partitions\", \"40\")"
   ]
  },
  {
   "cell_type": "code",
   "execution_count": 43,
   "id": "b082a090-b65a-414a-ac74-41cfa7a5320b",
   "metadata": {
    "tags": []
   },
   "outputs": [
    {
     "data": {
      "application/vnd.jupyter.widget-view+json": {
       "model_id": "",
       "version_major": 2,
       "version_minor": 0
      },
      "text/plain": [
       "FloatProgress(value=0.0, bar_style='info', description='Progress:', layout=Layout(height='25px', width='50%'),…"
      ]
     },
     "metadata": {},
     "output_type": "display_data"
    },
    {
     "name": "stdout",
     "output_type": "stream",
     "text": [
      "\n",
      "Entrando na função verifGTFraude Bloco 16\n",
      "Entrando na slimApvdCdc \n",
      "Entrando na funcao processaCalculo - 173 apvd\n",
      "Entrando na funcao calculaSlim - regra none \n",
      "Saindo da função calculaSlim tempo de excução: 1.855384349822998 \n",
      "Saindo da função processaCalculo tempo de excução: 3.8853251934051514 \n",
      "Entrando na funcao processaCalculo - 131 apvd\n",
      "Entrando na funcao calculaSlim - regra none \n",
      "Saindo da função calculaSlim tempo de excução: 0.8714227676391602 \n",
      "Saindo da função processaCalculo tempo de excução: 2.878351926803589 \n",
      "Entrando na funcao processaCalculo - 116 apvd\n",
      "Entrando na funcao calculaSlim - regra none \n",
      "Saindo da função calculaSlim tempo de excução: 4.175079584121704 \n",
      "Saindo da função processaCalculo tempo de excução: 5.54755973815918 \n",
      "Entrando na funcao vrf_Rnd_Slr_Bnf\n",
      "Saindo da função vrf_Rnd_Slr_BnfDF tempo de excução: 15.222918272018433 \n",
      "Entrando na funcao processaCalculo - 83 apvd\n",
      "Entrando na funcao calculaSlim - regra none \n",
      "Saindo da função calculaSlim tempo de excução: 13.818503856658936 \n",
      "Saindo da função processaCalculo tempo de excução: 21.63954758644104 \n",
      "Entrando na funcao processaCalculo - 115 apvd\n",
      "Entrando na funcao calculaSlim - regra none \n",
      "Saindo da função calculaSlim tempo de excução: 5.310429573059082 \n",
      "Saindo da função processaCalculo tempo de excução: 11.104596138000488 \n",
      "Entrando na funcao processaCalculo - 119 apvd\n",
      "Entrando na funcao calculaSlim - regra none \n",
      "Saindo da função calculaSlim tempo de excução: 2.5892388820648193 \n",
      "Saindo da função processaCalculo tempo de excução: 5.01193904876709 \n",
      "Entrando na funcao processaCalculo - 156 apvd\n",
      "Entrando na funcao calculaSlim - regra none \n",
      "Saindo da função calculaSlim tempo de excução: 2.8962037563323975 \n",
      "Saindo da função processaCalculo tempo de excução: 5.695967197418213 \n",
      "Entrando na funcao processaCalculo - 159 apvd\n",
      "Entrando na funcao calculaSlim - regra none \n",
      "Saindo da função calculaSlim tempo de excução: 8.6681649684906 \n",
      "Saindo da função processaCalculo tempo de excução: 11.574088335037231 \n",
      "Entrando na funcao processaCalculo - 160 apvd\n",
      "Entrando na funcao calculaSlim - regra none \n",
      "Saindo da função calculaSlim tempo de excução: 4.697326898574829 \n",
      "Saindo da função processaCalculo tempo de excução: 13.271871328353882 \n",
      "Entrando na funcao processaCalculo - 161 apvd\n",
      "Entrando na funcao calculaSlim - regra none \n",
      "Saindo da função calculaSlim tempo de excução: 3.8151767253875732 \n",
      "Saindo da função processaCalculo tempo de excução: 7.207802057266235 \n",
      "Entrando na funcao processaCalculo - 163 apvd\n",
      "Entrando na funcao calculaSlim - regra none \n",
      "Saindo da função calculaSlim tempo de excução: 3.549792766571045 \n",
      "Saindo da função processaCalculo tempo de excução: 6.455340385437012 \n",
      "Entrando na funcao processaCalculo - 142 apvd\n",
      "Entrando na funcao calculaSlim - regra none \n",
      "Saindo da função calculaSlim tempo de excução: 3.713052988052368 \n",
      "Saindo da função processaCalculo tempo de excução: 7.483792304992676 \n",
      "Saindo da função slimApvdCdc tempo de excução: 185.4933340549469 \n",
      "Entrando na calculaGrupoRDEX\n",
      "Saindo da função calculoGrupoRDEX tempo de excução: 0.41912364959716797 \n",
      "Entrando na calculaGrupoRao\n",
      "Saindo da função calculoGrupoRao tempo de excução: 0.3774840831756592 \n",
      "Entrando na calculaGrupoECF\n",
      "Saindo da função calculaGrupoECF tempo de excução: 0.10866999626159668 \n",
      "Entrando na calculaGrupoFunc\n",
      "Saindo da função calculoGrupoFunc tempo de excução: 0.9565589427947998 \n",
      "Entrando na calculaGrupoVCLO\n",
      "Saindo da função calculoGrupoVCLO tempo de excução: 0.16007471084594727 \n",
      "Entrando na calculaGrupoCDC\n",
      "Saindo da função calculaGrupoCDC tempo de excução: 2.363736629486084 \n",
      "Entrando na calculaBloco\n",
      "Saindo da função calculoBloco tempo de excução: 0.6092255115509033 \n",
      "Saindo da função calculoPrtcdcDF tempo de excução: 384.8895437717438 \n",
      "Saindo da função verifGTFraude tempo de excução: 385.3178536891937CPU times: user 1.19 s, sys: 99.3 ms, total: 1.29 s\n",
      "Wall time: 8min 35s\n"
     ]
    }
   ],
   "source": [
    "%%time\n",
    "%%spark\n",
    "\n",
    "print(\"\")  \n",
    "print(\"Entrando na função verifGTFraude Bloco 16\")\n",
    "parcelado18 = verifGTFraude(parcelado17).checkpoint()"
   ]
  },
  {
   "cell_type": "code",
   "execution_count": 44,
   "id": "06514a8c-d53f-40e3-b6df-ae44019c9b3a",
   "metadata": {},
   "outputs": [
    {
     "data": {
      "application/vnd.jupyter.widget-view+json": {
       "model_id": "",
       "version_major": 2,
       "version_minor": 0
      },
      "text/plain": [
       "FloatProgress(value=0.0, bar_style='info', description='Progress:', layout=Layout(height='25px', width='50%'),…"
      ]
     },
     "metadata": {},
     "output_type": "display_data"
    },
    {
     "name": "stdout",
     "output_type": "stream",
     "text": [
      "CPU times: user 28.3 ms, sys: 3.97 ms, total: 32.3 ms\n",
      "Wall time: 131 ms\n"
     ]
    }
   ],
   "source": [
    "%%time\n",
    "%%spark\n",
    "\n",
    "spark.catalog.clearCache()"
   ]
  },
  {
   "cell_type": "code",
   "execution_count": 115,
   "id": "70e1be0c-c020-4a4a-8e77-d912e067d148",
   "metadata": {
    "tags": []
   },
   "outputs": [
    {
     "data": {
      "application/vnd.jupyter.widget-view+json": {
       "model_id": "",
       "version_major": 2,
       "version_minor": 0
      },
      "text/plain": [
       "FloatProgress(value=0.0, bar_style='info', description='Progress:', layout=Layout(height='25px', width='50%'),…"
      ]
     },
     "metadata": {},
     "output_type": "display_data"
    },
    {
     "name": "stdout",
     "output_type": "stream",
     "text": [
      "CPU times: user 27.4 ms, sys: 1.1 ms, total: 28.5 ms\n",
      "Wall time: 30.5 ms\n"
     ]
    }
   ],
   "source": [
    "%%time\n",
    "%%spark\n",
    "\n",
    "validaDF = parcelado18"
   ]
  },
  {
   "cell_type": "markdown",
   "id": "34f0c2d4-6783-4fa0-8583-2d4888041018",
   "metadata": {},
   "source": [
    "## **Ajustando para saida**"
   ]
  },
  {
   "cell_type": "code",
   "execution_count": 116,
   "id": "5ae1d62c-4e95-4283-a39a-2a564dab632d",
   "metadata": {},
   "outputs": [
    {
     "data": {
      "application/vnd.jupyter.widget-view+json": {
       "model_id": "",
       "version_major": 2,
       "version_minor": 0
      },
      "text/plain": [
       "FloatProgress(value=0.0, bar_style='info', description='Progress:', layout=Layout(height='25px', width='50%'),…"
      ]
     },
     "metadata": {},
     "output_type": "display_data"
    }
   ],
   "source": [
    "%%spark\n",
    "\n",
    "validaDF = validaDF.withColumn(\"vl_pstc_crd_slr\",col(\"vl_pstc_083\"))\\\n",
    "                   .withColumn(\"ic_mtp_clc_slim_137\",col(\"vl_mtp_clc_slim_137\"))\\\n",
    "                   .withColumn(\"vl_pstc_chq_fndo_clcd\",col(\"vl_pstc_ecf_clcd\"))\\\n",
    "                   .withColumn(\"vl_pstc_chq_fndo_apvd\",col(\"vl_pstc_ecf_apvd\"))\\\n",
    "                   .withColumn(\"vl_pstc_fin_apvd\",lit(0))\\\n",
    "                   .withColumn(\"vl_pstc_fin_clcd\",lit(0))\\\n",
    "                   .withColumn(\"nr_idfr_rsco\",lit(0))\\\n",
    "                   .withColumn(\"vl_pstc_chq_sem_fndo_otr\", col(\"vl_pstc_ecf_demais\"))\\\n",
    "                   .withColumn(\"ts_saida\", to_timestamp(\"ts_saida\", \"yyyy-MM-dd-HH.mm.ss.SSSSSS\"))"
   ]
  },
  {
   "cell_type": "code",
   "execution_count": 117,
   "id": "db639034-2df6-44d4-ba73-03174c1d5922",
   "metadata": {
    "tags": []
   },
   "outputs": [
    {
     "data": {
      "application/vnd.jupyter.widget-view+json": {
       "model_id": "",
       "version_major": 2,
       "version_minor": 0
      },
      "text/plain": [
       "FloatProgress(value=0.0, bar_style='info', description='Progress:', layout=Layout(height='25px', width='50%'),…"
      ]
     },
     "metadata": {},
     "output_type": "display_data"
    }
   ],
   "source": [
    "%%spark\n",
    "validaDF = validaDF.selectExpr(\n",
    "                                \"cast(cd_cli as int) as CD_CLI\",\n",
    "                                \"cast(nr_cpf_cnpj as decimal(17,2)) as NR_CPF_CNPJ\",\n",
    "                                \"current_timestamp() as TS_CLC_SMLC\",\n",
    "                                \"cast(cd_mtdl_anl_crd as char(2)) as CD_MTDL_ANL_CRD\",\n",
    "                                \"cast(nr_idfr_slim_crd as decimal(31,0)) as NR_IDFR_SLIM_CRD\",\n",
    "                                \"cast(nr_idfr_rsco as decimal(31,0)) as NR_IDFR_RSCO\",\n",
    "                                \"cast(vl_slim_20_clcd as decimal(17,2))  as VL_CRT_CRD_CLCD\",\n",
    "                                \"cast(vl_slim_178_clcd as decimal(17,2)) as VL_CRT_EXNO_CLCD\",\n",
    "                                \"cast(vl_slim_20_apvd as decimal(17,2))  as VL_CRT_CRD_APVD\",\n",
    "                                \"cast(vl_slim_178_apvd as decimal(17,2)) as VL_CRT_EXNO_APVD\",\n",
    "                                \"cast(vl_slim_15_clcd as decimal(17,2))  as VL_CHQ_ESPL_CLCD\",\n",
    "                                \"cast(vl_slim_15_apvd as decimal(17,2))  as VL_CHQ_ESPL_APVD\",\n",
    "                                \"cast(vl_slim_53_clcd as decimal(17,2))  as VL_ADTT_DEPS_CLCD\",\n",
    "                                \"cast(vl_slim_53_apvd as decimal(17,2))  as VL_ADTT_DEPS_APVD\",\n",
    "                                \"cast(vl_grupo_63_clcd as decimal(17,2)) as VL_GR_CRT_CLCD\",\n",
    "                                \"cast(vl_grupo_63_apvd as decimal(17,2)) as VL_GR_CRT_APVD\",\n",
    "                                \"cast(vl_grupo_62_clcd as decimal(17,2)) as VL_GR_CHQ_CLCD\",\n",
    "                                \"cast(vl_grupo_62_apvd as decimal(17,2)) as VL_GR_CHQ_APVD\",\n",
    "                                \"cast(vl_bloco_11_clcd as decimal(17,2)) as VL_BLOC_RTV_CLCD\",\n",
    "                                \"cast(vl_bloco_11_apvd as decimal(17,2)) as VL_BLOC_RTV_APVD\",\n",
    "                                \"cast(vl_slim_21_apvd as decimal(17,2))  as VL_LSG_VCLO_APVD\",\n",
    "                                \"cast(vl_slim_21_clcd as decimal(17,2))  as VL_LSG_VCLO_CLCD\",\n",
    "                                \"cast(vl_slim_83_apvd as decimal(17,2))  as VL_CRD_SLR_APVD\",\n",
    "                                \"cast(vl_slim_83_clcd as decimal(17,2))  as VL_CRD_SLR_CLCD\",\n",
    "                                \"cast(vl_slim_111_apvd as decimal(17,2)) as VL_CRD_RSCT_APVD\",\n",
    "                                \"cast(vl_slim_111_clcd as decimal(17,2)) as VL_CRD_RSCT_CLCD\",\n",
    "                                \"cast(vl_slim_115_apvd as decimal(17,2)) as VL_CRD_BNF_APVD\",\n",
    "                                \"cast(vl_slim_115_clcd as decimal(17,2)) as VL_CRD_BNF_CLCD\",\n",
    "                                \"cast(vl_slim_116_apvd as decimal(17,2)) as VL_CRD_AUTC_APVD\",\n",
    "                                \"cast(vl_slim_116_clcd as decimal(17,2)) as VL_CRD_AUTC_CLCD\",\n",
    "                                \"cast(vl_slim_117_apvd as decimal(17,2)) as VL_CDC_VCLO_APVD\",\n",
    "                                \"cast(vl_slim_117_clcd as decimal(17,2)) as VL_CDC_VCLO_CLCD\",\n",
    "                                \"cast(vl_slim_119_apvd as decimal(17,2)) as VL_FNTO_BEM_APVD\",\n",
    "                                \"cast(vl_slim_119_clcd as decimal(17,2)) as VL_FNTO_BEM_CLCD\",\n",
    "                                \"cast(vl_slim_129_apvd as decimal(17,2)) as VL_CRD_MTRL_APVD\",\n",
    "                                \"cast(vl_slim_129_clcd as decimal(17,2)) as VL_CRD_MTRL_CLCD\",\n",
    "                                \"cast(vl_slim_131_apvd as decimal(17,2)) as VL_CRD_PRON_APVD\",\n",
    "                                \"cast(vl_slim_131_clcd as decimal(17,2)) as VL_CRD_PRON_CLCD\",\n",
    "                                \"cast(vl_slim_137_apvd as decimal(17,2)) as VL_CGN_FLH_APVD\",\n",
    "                                \"cast(vl_slim_137_clcd as decimal(17,2)) as VL_CGN_FLH_CLCD\",\n",
    "                                \"cast(vl_slim_140_apvd as decimal(17,2)) as VL_SLR_FUN_APVD\",\n",
    "                                \"cast(vl_slim_140_clcd as decimal(17,2)) as VL_SLR_FUN_CLCD\",\n",
    "                                \"cast(vl_slim_142_apvd as decimal(17,2)) as VL_CRD_RNVC_APVD\",\n",
    "                                \"cast(vl_slim_142_clcd as decimal(17,2)) as VL_CRD_RNVC_CLCD\",\n",
    "                                \"cast(vl_slim_155_apvd as decimal(17,2)) as VL_RSCT_CGN_APVD\",\n",
    "                                \"cast(vl_slim_155_clcd as decimal(17,2)) as VL_RSCT_CGN_CLCD\",\n",
    "                                \"cast(vl_slim_156_apvd as decimal(17,2)) as VL_PC_CECR_APVD\",\n",
    "                                \"cast(vl_slim_156_clcd as decimal(17,2)) as VL_PC_CECR_CLCD\",\n",
    "                                \"cast(vl_slim_157_apvd as decimal(17,2)) as VL_MIC_FUN_APVD\",\n",
    "                                \"cast(vl_slim_157_clcd as decimal(17,2)) as VL_MIC_FUN_CLCD\",\n",
    "                                \"cast(vl_slim_159_apvd as decimal(17,2)) as VL_CRT_CHQ_APVD\",\n",
    "                                \"cast(vl_slim_159_clcd as decimal(17,2)) as VL_CRT_CHQ_CLCD\",\n",
    "                                \"cast(vl_slim_160_apvd as decimal(17,2)) as VL_TRNS_CRT_APVD\",\n",
    "                                \"cast(vl_slim_160_clcd as decimal(17,2)) as VL_TRNS_CRT_CLCD\",\n",
    "                                \"cast(vl_slim_161_apvd as decimal(17,2)) as VL_CRD_ACSB_APVD\",\n",
    "                                \"cast(vl_slim_161_clcd as decimal(17,2)) as VL_CRD_ACSB_CLCD\",\n",
    "                                \"cast(vl_slim_162_apvd as decimal(17,2)) as VL_VCLO_FUN_APVD\",\n",
    "                                \"cast(vl_slim_162_clcd as decimal(17,2)) as VL_VCLO_FUN_CLCD\",\n",
    "                                \"cast(vl_slim_163_apvd as decimal(17,2)) as VL_CRD_PCR_APVD\",\n",
    "                                \"cast(vl_slim_163_clcd as decimal(17,2)) as VL_CRD_PCR_CLCD\",\n",
    "                                \"cast(vl_slim_171_apvd as decimal(17,2)) as VL_CRT_FLH_APVD\",\n",
    "                                \"cast(vl_slim_171_clcd as decimal(17,2)) as VL_CRT_FLH_CLCD\",\n",
    "                                \"cast(vl_slim_173_apvd as decimal(17,2)) as VL_CRD_SSTB_APVD\",\n",
    "                                \"cast(vl_slim_173_clcd as decimal(17,2)) as VL_CRD_SSTB_CLCD\",\n",
    "                                \"cast(vl_slim_179_apvd as decimal(17,2)) as VL_CPR_DVD_APVD\",\n",
    "                                \"cast(vl_slim_179_clcd as decimal(17,2)) as VL_CPR_DVD_CLCD\",\n",
    "                                \"cast(vl_slim_180_apvd as decimal(17,2)) as VL_REDE_EPTM_APVD\",\n",
    "                                \"cast(vl_slim_180_clcd as decimal(17,2)) as VL_REDE_EPTM_CLCD\",\n",
    "                                \"cast(vl_slim_181_apvd as decimal(17,2)) as VL_REDE_FNTO_APVD\",\n",
    "                                \"cast(vl_slim_181_clcd as decimal(17,2)) as VL_REDE_FNTO_CLCD\",\n",
    "                                \"cast(vl_slim_228_apvd as decimal(17,2)) as VL_RNVC_FUN_APVD\",\n",
    "                                \"cast(vl_slim_228_clcd as decimal(17,2)) as VL_RNVC_FUN_CLCD\",\n",
    "                                \"cast(vl_pstc_cdc_apvd as decimal(17,2)) as VL_PSTC_CDC_APVD\",\n",
    "                                \"cast(vl_pstc_cdc_clcd as decimal(17,2)) as VL_PSTC_CDC_CLCD\",\n",
    "                                \"cast(vl_pstc_fin_apvd as decimal(17,2)) as VL_PSTC_FIN_APVD\",\n",
    "                                \"cast(vl_pstc_fin_clcd as decimal(17,2)) as VL_PSTC_FIN_CLCD\",\n",
    "                                \"cast(vl_pstc_rao_apvd as decimal(17,2)) as VL_PSTC_RCPO_APVD\", \n",
    "                                \"cast(vl_pstc_rao_clcd as decimal(17,2)) as VL_PSTC_RCPO_CLCD\",\n",
    "                                \"cast(vl_pstc_vclo_apvd as decimal(17,2)) as VL_PSTC_VCLO_APVD\",\n",
    "                                \"cast(vl_pstc_vclo_clcd as decimal(17,2)) as VL_PSTC_VCLO_CLCD\", \n",
    "                                \"cast(vl_pstc_cdc_prtt as decimal(17,2)) as VL_PSTC_CDC_PRTT\",\n",
    "                                \"cast(vl_ren_slr_bnf as decimal(17,2)) as VL_REN_SLR_BNF\",\n",
    "                                \"cast(vl_grupo_45_apvd as decimal(17,2)) as VL_GR_PCLD_APVD\",\n",
    "                                \"cast(vl_grupo_45_clcd as decimal(17,2)) as VL_GR_PCLD_CLCD\",\n",
    "                                \"cast(vl_grupo_46_apvd as decimal(17,2)) as VL_GR_RSCT_APVD\",\n",
    "                                \"cast(vl_grupo_46_clcd as decimal(17,2)) as VL_GR_RSCT_CLCD\",\n",
    "                                \"cast(vl_grupo_55_apvd as decimal(17,2)) as VL_GR_CGN_APVD\",\n",
    "                                \"cast(vl_grupo_55_clcd as decimal(17,2)) as VL_GR_CGN_CLCD\",\n",
    "                                \"cast(vl_grupo_60_apvd as decimal(17,2)) as VL_GR_VCLO_APVD\",\n",
    "                                \"cast(vl_grupo_60_clcd as decimal(17,2)) as VL_GR_VCLO_CLCD\",\n",
    "                                \"cast(vl_grupo_64_apvd as decimal(17,2)) as VL_GR_FUN_APVD\",\n",
    "                                \"cast(vl_grupo_64_clcd as decimal(17,2)) as VL_GR_FUN_CLCD\",\n",
    "                                \"cast(vl_grupo_65_apvd as decimal(17,2)) as VL_GR_REDE_APVD\",\n",
    "                                \"cast(vl_grupo_65_clcd as decimal(17,2)) as VL_GR_REDE_CLCD\",\n",
    "                                \"cast(vl_bloco_14_apvd as decimal(17,2)) as VL_BLOC_CDC_APVD\",\n",
    "                                \"cast(vl_bloco_14_clcd as decimal(17,2)) as VL_BLOC_CDC_CLCD\",\n",
    "                                \"cast(vl_slim_130_clcd as decimal(17,2)) as VL_BB_CRD_BNF_CLCD\",\n",
    "                                \"cast(vl_slim_130_apvd as decimal(17,2)) as VL_BB_CRD_BNF_APVD\",\n",
    "                                \"cast(in_grava_cvn as smallint) as cd_grvr_cvn\",\n",
    "                                \"cast(vl_pstc_crd_slr as int)  as VL_PSTC_CRD_SLR\",\n",
    "                                \"cast(round(vl_ren_utzd_pstc_ecf,2) as decimal(17,2)) as VL_REN_PSTC_ECF\",\n",
    "                                \"cast(round(vl_renda_funci,2) as decimal(17,2)) as VL_REN_FUN_BB\",\n",
    "                                \"cast(round(vl_renda_liq_ttl,2) as decimal(17,2)) as VL_REN_LQDO_TTL\",\n",
    "                                \"cast(round(vl_renda_pres,2) as decimal(17,2)) as VL_REN_PTDO\",\n",
    "                                \"cast(vl_pstc_chq_fndo_clcd as decimal(11,2)) as VL_PSTC_ECF_CLCD\",\n",
    "                                \"cast(vl_pstc_chq_fndo_apvd as decimal(11,2)) as VL_PSTC_ECF_APVD\",\n",
    "                                \"cast(ic_ajst_cvn_137 as decimal(9,6)) as IC_AJST_CVN_CGN\",\n",
    "                                \"cast(vl_pstc_137 as int) as VL_PSTC_CGN\",\n",
    "                                \"cast(ic_ajst_cvn_171 as decimal(9,6)) as IC_AJST_CRT_FLH\",\n",
    "                                \"cast(vl_max_cvn_083 as int) as VL_MAX_CVN_CRD_SLR\",\n",
    "                                \"cast(vl_max_cvn_137 as int) as VL_MAX_CVN_CGN\",\n",
    "                                \"cast(vl_max_cvn_171 as int) as VL_MAX_CVN_CRT_FLH\",\n",
    "                                \"cast(vl_pstc_fun_bb_clcd as decimal(15,2)) as VL_PSTC_FUN_CLCD\",\n",
    "                                \"cast(vl_pstc_chq_sem_fndo_otr as decimal(15,2)) as VL_PSTC_ECF_OTR\",\n",
    "                                \"cast(vl_pstc_fun_bb_apvd as decimal(15,2)) as VL_PSTC_FUN_APVD\",\n",
    "                                \"cast(round(ic_mtp_clc_slim_137,6) as decimal(16,9)) as VL_MTP_CRD_CGN\",\n",
    "                                \"cast(ts_saida as timestamp) as TS_SAID\", \n",
    "                                \"cast(cd_est_lmcr_saida as int) as CD_EST_LMCR_SAID\",\n",
    "                                \"cast(cd_tip_evt_saida as int) as CD_TIP_EVT_SAID\",\n",
    "                                \"cast(cd_ntz_evt_saida as int) as CD_NTZ_EVT_SAID\"\n",
    "                            )\n"
   ]
  },
  {
   "cell_type": "markdown",
   "id": "71cec895-f55f-4e6e-a684-4f48570b96af",
   "metadata": {},
   "source": [
    "### **Persistindo ultima versao antes do posicional**"
   ]
  },
  {
   "cell_type": "code",
   "execution_count": null,
   "id": "27ff9c08-9c0c-41be-85c2-7ca79583d84e",
   "metadata": {},
   "outputs": [],
   "source": [
    "%%time\n",
    "%%spark\n",
    "\n",
    "validaDF.write.mode(\"overwrite\").insertInto(os.environ[\"TABELA_SAIDA\"] )"
   ]
  },
  {
   "cell_type": "code",
   "execution_count": 74,
   "id": "c09ae9f9-31d7-47db-80dc-bc91930df970",
   "metadata": {},
   "outputs": [
    {
     "data": {
      "application/vnd.jupyter.widget-view+json": {
       "model_id": "",
       "version_major": 2,
       "version_minor": 0
      },
      "text/plain": [
       "FloatProgress(value=0.0, bar_style='info', description='Progress:', layout=Layout(height='25px', width='50%'),…"
      ]
     },
     "metadata": {},
     "output_type": "display_data"
    },
    {
     "name": "stdout",
     "output_type": "stream",
     "text": [
      "CPU times: user 13.7 ms, sys: 4.36 ms, total: 18.1 ms\n",
      "Wall time: 24 ms\n"
     ]
    }
   ],
   "source": [
    "%%time\n",
    "%%spark\n",
    "\n",
    "spark.catalog.clearCache()"
   ]
  },
  {
   "cell_type": "markdown",
   "id": "9aa19aac-767e-4493-ac54-59887691c852",
   "metadata": {
    "tags": []
   },
   "source": [
    "# **Módulo de Retorno do Arquivo**"
   ]
  },
  {
   "cell_type": "code",
   "execution_count": null,
   "id": "6807245e-45cc-4b42-a913-b11808e1e9eb",
   "metadata": {
    "tags": []
   },
   "outputs": [],
   "source": [
    "%%time\n",
    "\n",
    "%run retorno_arquivo.ipynb"
   ]
  },
  {
   "cell_type": "markdown",
   "id": "ef422124-feb0-48fd-aa57-703d8c99a11d",
   "metadata": {
    "tags": []
   },
   "source": [
    "# Gera Json Python"
   ]
  },
  {
   "cell_type": "code",
   "execution_count": null,
   "id": "02aa7dab-e23f-4c8f-aa40-d8b167abf6a0",
   "metadata": {
    "tags": []
   },
   "outputs": [],
   "source": [
    "%%spark\n",
    "\n",
    "#books_batch\n",
    "\n",
    "json_principal = df_tratado.drop(*['timestampRecepcaoArquivo', 'estadoLimiteCreditoEntrada', 'tipoEventoEntrada', 'naturezaEventoEntrada'])\\\n",
    "                             .where('codigoCliente = 458837875')\n",
    "\n",
    "json_principal = json_principal.withColumn('jsonCol', F.to_json(F.struct([json_principal[x].alias(x) for x in json_principal.columns]))).select('jsonCol')\n",
    "\n",
    "json_principal.coalesce(1).write.mode('append').format('text').save('/books_batch')"
   ]
  },
  {
   "cell_type": "markdown",
   "id": "d1efd3fb-656e-4725-90f5-ff0f1923323a",
   "metadata": {},
   "source": [
    "# Encerramento da sessão"
   ]
  },
  {
   "cell_type": "code",
   "execution_count": 116,
   "id": "e87df3f3-4bf1-4cc9-915b-9539ef49c494",
   "metadata": {},
   "outputs": [],
   "source": [
    "# ENCERRANDO A SESSÃO \n",
    "\n",
    "%spark cleanup"
   ]
  }
 ],
 "metadata": {
  "kernelspec": {
   "display_name": "Python 3",
   "language": "python",
   "name": "python3"
  },
  "language_info": {
   "codemirror_mode": {
    "name": "ipython",
    "version": 3
   },
   "file_extension": ".py",
   "mimetype": "text/x-python",
   "name": "python",
   "nbconvert_exporter": "python",
   "pygments_lexer": "ipython3",
   "version": "3.6.8"
  },
  "toc-autonumbering": true
 },
 "nbformat": 4,
 "nbformat_minor": 5
}
