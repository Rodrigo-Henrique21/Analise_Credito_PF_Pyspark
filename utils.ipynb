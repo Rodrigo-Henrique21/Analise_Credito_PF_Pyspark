{
 "cells": [
  {
   "cell_type": "markdown",
   "id": "d659160b-76ae-4799-bd0b-7975ff04571f",
   "metadata": {},
   "source": [
    "#### Funções Auxiliares"
   ]
  },
  {
   "cell_type": "code",
   "execution_count": 8,
   "id": "d9025767-ea0a-4446-8d08-3931c16d7e4b",
   "metadata": {},
   "outputs": [
    {
     "name": "stderr",
     "output_type": "stream",
     "text": [
      "UsageError: Cell magic `%%spark` not found.\n"
     ]
    }
   ],
   "source": [
    "%%spark\n",
    "\n",
    "def keep_non_zero_values(values):\n",
    "    non_zero_values = [v for v in values if v != 0]\n",
    "    if len(non_zero_values) > 0:\n",
    "        return non_zero_values\n",
    "        return [999] # Valor padrão, caso não existam valores diferentes de 0\n",
    "\n",
    "\n",
    "def remove_zeros_and_spaces(array):\n",
    "    result = [value for value in array if value != '0' and value.strip() != '']\n",
    "    return result\n",
    "\n",
    "\n",
    "def remove_zeros_inteiros(array):\n",
    "    result = [value for value in array if value != 0.00 and value != '' and value != 0]\n",
    "    return result\n",
    "\n",
    "def keep_non_zero_values2(values):\n",
    "    non_zero_values = [v for v in values if v != 0 and v != ' 0' and v != '0' and v != ' ' and v != '  ']\n",
    "    if len(non_zero_values) > 0:\n",
    "        return non_zero_values\n",
    "    else:\n",
    "        return ['999'] # Valor padrão, caso não existam valores diferentes de 0\n",
    "    \n",
    "    \n",
    "keep_non_zero_values_udf = udf(keep_non_zero_values, ArrayType(IntegerType()))\n",
    "keep_non_zero_values_udf2 = udf(keep_non_zero_values, ArrayType(StringType()))\n",
    "remove_zeros_inteiros_udf = udf(remove_zeros_inteiros, ArrayType(StringType()))\n",
    "remove_zeros_Decimal = udf(remove_zeros_inteiros, ArrayType(DecimalType(17,2)))\n",
    "remove_zeros_and_spaces_udf = udf(remove_zeros_and_spaces, ArrayType(StringType()))"
   ]
  },
  {
   "cell_type": "markdown",
   "id": "aac2622e-2629-4b73-87c7-f7bb5cc5d308",
   "metadata": {
    "tags": []
   },
   "source": [
    "#### **Modo de execução de consultas no DB**"
   ]
  },
  {
   "cell_type": "code",
   "execution_count": 8,
   "id": "55572eca-bb0e-4532-9e77-eb6fcd18a0e2",
   "metadata": {},
   "outputs": [
    {
     "data": {
      "application/vnd.jupyter.widget-view+json": {
       "model_id": "",
       "version_major": 2,
       "version_minor": 0
      },
      "text/plain": [
       "FloatProgress(value=0.0, bar_style='info', description='Progress:', layout=Layout(height='25px', width='50%'),…"
      ]
     },
     "metadata": {},
     "output_type": "display_data"
    }
   ],
   "source": [
    "%%spark\n",
    "\n",
    "from pyspark.sql import SparkSession\n",
    "\n",
    "def aplicaConsultaDB(spark:SparkSession, query, dicionarioDeConstantes):\n",
    "    '''\n",
    "        Aplica query (passada por paramentro) à consulta e retorna o resultado no formato DataFrame do Spark\n",
    "        \n",
    "        Nota: todo resultado está sendo posto em cache antes de ser retornado\n",
    "        \n",
    "        return DataFrame\n",
    "    '''\n",
    "    \n",
    "    # Efetua a consulta no DB e passa o resultado para o dataFrame DF (dataframe do Spark)\n",
    "    df = spark.read \\\n",
    "              .format(\"jdbc\") \\\n",
    "              .option(\"url\", dicionarioDeConstantes['URL']) \\\n",
    "              .option(\"driver\", dicionarioDeConstantes['JCN']) \\\n",
    "              .option(\"dbtable\", query) \\\n",
    "              .option(\"user\", dicionarioDeConstantes[\"DB_USER\"]) \\\n",
    "              .option(\"password\", dicionarioDeConstantes[\"DB_PASSWORD\"]) \\\n",
    "              .option('keepAliveTimeout','10') \\\n",
    "              .load()\n",
    "\n",
    "    # Coloca o resultado em cache para evitar reconsultas no DB\n",
    "    df.cache()\n",
    "    df.count()\n",
    "    \n",
    "    # retorna o resultado\n",
    "    return df"
   ]
  }
 ],
 "metadata": {
  "kernelspec": {
   "display_name": "Python 3",
   "language": "python",
   "name": "python3"
  },
  "language_info": {
   "codemirror_mode": {
    "name": "ipython",
    "version": 3
   },
   "file_extension": ".py",
   "mimetype": "text/x-python",
   "name": "python",
   "nbconvert_exporter": "python",
   "pygments_lexer": "ipython3",
   "version": "3.6.8"
  }
 },
 "nbformat": 4,
 "nbformat_minor": 5
}
